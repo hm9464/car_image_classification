{
 "cells": [
  {
   "cell_type": "markdown",
   "metadata": {},
   "source": [
    "# Convolutinal Neural Network for Classifying Cars\n",
    "\n",
    "### Background\n",
    "Stanford AI has developed a dataset of cars with make, model and year. The aim of this project is to classify cars as accurately as possible using a convolutional neural network. We will use the Keras package with Tensorflow backend to run model training, and we will validate and evaluate the accuracy of the model based on the parameters.\n",
    "\n",
    "### Contents\n",
    "1. Build the classifier layers\n",
    "2. Load training and test data\n",
    "3. Run training\n",
    "4. Evaluate model accuracy\n",
    "\n",
    "Improving:https://github.com/CihanBosnali/Real-Time-Cars-Classification-Using-Keras/blob/master/model_trainer.py"
   ]
  },
  {
   "cell_type": "markdown",
   "metadata": {},
   "source": [
    "#### Load packages"
   ]
  },
  {
   "cell_type": "code",
   "execution_count": 1,
   "metadata": {},
   "outputs": [
    {
     "name": "stderr",
     "output_type": "stream",
     "text": [
      "Using TensorFlow backend.\n",
      "C:\\Users\\hmakharia.consultant\\.conda\\envs\\quant\\lib\\site-packages\\tensorflow\\python\\framework\\dtypes.py:516: FutureWarning: Passing (type, 1) or '1type' as a synonym of type is deprecated; in a future version of numpy, it will be understood as (type, (1,)) / '(1,)type'.\n",
      "  _np_qint8 = np.dtype([(\"qint8\", np.int8, 1)])\n",
      "C:\\Users\\hmakharia.consultant\\.conda\\envs\\quant\\lib\\site-packages\\tensorflow\\python\\framework\\dtypes.py:517: FutureWarning: Passing (type, 1) or '1type' as a synonym of type is deprecated; in a future version of numpy, it will be understood as (type, (1,)) / '(1,)type'.\n",
      "  _np_quint8 = np.dtype([(\"quint8\", np.uint8, 1)])\n",
      "C:\\Users\\hmakharia.consultant\\.conda\\envs\\quant\\lib\\site-packages\\tensorflow\\python\\framework\\dtypes.py:518: FutureWarning: Passing (type, 1) or '1type' as a synonym of type is deprecated; in a future version of numpy, it will be understood as (type, (1,)) / '(1,)type'.\n",
      "  _np_qint16 = np.dtype([(\"qint16\", np.int16, 1)])\n",
      "C:\\Users\\hmakharia.consultant\\.conda\\envs\\quant\\lib\\site-packages\\tensorflow\\python\\framework\\dtypes.py:519: FutureWarning: Passing (type, 1) or '1type' as a synonym of type is deprecated; in a future version of numpy, it will be understood as (type, (1,)) / '(1,)type'.\n",
      "  _np_quint16 = np.dtype([(\"quint16\", np.uint16, 1)])\n",
      "C:\\Users\\hmakharia.consultant\\.conda\\envs\\quant\\lib\\site-packages\\tensorflow\\python\\framework\\dtypes.py:520: FutureWarning: Passing (type, 1) or '1type' as a synonym of type is deprecated; in a future version of numpy, it will be understood as (type, (1,)) / '(1,)type'.\n",
      "  _np_qint32 = np.dtype([(\"qint32\", np.int32, 1)])\n",
      "C:\\Users\\hmakharia.consultant\\.conda\\envs\\quant\\lib\\site-packages\\tensorflow\\python\\framework\\dtypes.py:525: FutureWarning: Passing (type, 1) or '1type' as a synonym of type is deprecated; in a future version of numpy, it will be understood as (type, (1,)) / '(1,)type'.\n",
      "  np_resource = np.dtype([(\"resource\", np.ubyte, 1)])\n",
      "C:\\Users\\hmakharia.consultant\\.conda\\envs\\quant\\lib\\site-packages\\tensorboard\\compat\\tensorflow_stub\\dtypes.py:541: FutureWarning: Passing (type, 1) or '1type' as a synonym of type is deprecated; in a future version of numpy, it will be understood as (type, (1,)) / '(1,)type'.\n",
      "  _np_qint8 = np.dtype([(\"qint8\", np.int8, 1)])\n",
      "C:\\Users\\hmakharia.consultant\\.conda\\envs\\quant\\lib\\site-packages\\tensorboard\\compat\\tensorflow_stub\\dtypes.py:542: FutureWarning: Passing (type, 1) or '1type' as a synonym of type is deprecated; in a future version of numpy, it will be understood as (type, (1,)) / '(1,)type'.\n",
      "  _np_quint8 = np.dtype([(\"quint8\", np.uint8, 1)])\n",
      "C:\\Users\\hmakharia.consultant\\.conda\\envs\\quant\\lib\\site-packages\\tensorboard\\compat\\tensorflow_stub\\dtypes.py:543: FutureWarning: Passing (type, 1) or '1type' as a synonym of type is deprecated; in a future version of numpy, it will be understood as (type, (1,)) / '(1,)type'.\n",
      "  _np_qint16 = np.dtype([(\"qint16\", np.int16, 1)])\n",
      "C:\\Users\\hmakharia.consultant\\.conda\\envs\\quant\\lib\\site-packages\\tensorboard\\compat\\tensorflow_stub\\dtypes.py:544: FutureWarning: Passing (type, 1) or '1type' as a synonym of type is deprecated; in a future version of numpy, it will be understood as (type, (1,)) / '(1,)type'.\n",
      "  _np_quint16 = np.dtype([(\"quint16\", np.uint16, 1)])\n",
      "C:\\Users\\hmakharia.consultant\\.conda\\envs\\quant\\lib\\site-packages\\tensorboard\\compat\\tensorflow_stub\\dtypes.py:545: FutureWarning: Passing (type, 1) or '1type' as a synonym of type is deprecated; in a future version of numpy, it will be understood as (type, (1,)) / '(1,)type'.\n",
      "  _np_qint32 = np.dtype([(\"qint32\", np.int32, 1)])\n",
      "C:\\Users\\hmakharia.consultant\\.conda\\envs\\quant\\lib\\site-packages\\tensorboard\\compat\\tensorflow_stub\\dtypes.py:550: FutureWarning: Passing (type, 1) or '1type' as a synonym of type is deprecated; in a future version of numpy, it will be understood as (type, (1,)) / '(1,)type'.\n",
      "  np_resource = np.dtype([(\"resource\", np.ubyte, 1)])\n"
     ]
    }
   ],
   "source": [
    "import numpy as np # linear algebra\n",
    "import pandas as pd # data processing, CSV file I/O (e.g. pd.read_csv)\n",
    "import os\n",
    "\n",
    "from keras.models import Sequential\n",
    "from keras.layers import Conv2D\n",
    "from keras.layers import MaxPool2D\n",
    "from keras.layers import Dropout\n",
    "from keras.layers import Flatten\n",
    "from keras.layers import Dense\n",
    "from keras.optimizers import SGD\n",
    "\n",
    "from keras.preprocessing.image import ImageDataGenerator"
   ]
  },
  {
   "cell_type": "markdown",
   "metadata": {},
   "source": [
    "## Model A: Classifying Make and Model\n",
    "<b>Aim</b>: Classify a car as part of the 196 classes in our dataset in terms of both make and model year. "
   ]
  },
  {
   "cell_type": "markdown",
   "metadata": {},
   "source": [
    "## 1. Build the Classifier\n",
    "\n",
    "We will use 3 convolution layers for the sake of computing power, with all layers using the relu activation function. We use this function because of it's non-linear (compared to sigmoid, for example, which can cause neurons to 'vanish'). "
   ]
  },
  {
   "cell_type": "code",
<<<<<<< HEAD
   "execution_count": 17,
=======
   "execution_count": 3,
>>>>>>> 38f27ca6c90cb9d26a96051ae3a83a053d16c6eb
   "metadata": {},
   "outputs": [],
   "source": [
    "config = {'img_pixels': 256,\n",
    "          'n_filters': 64,\n",
    "          'layer_nodes': 512,\n",
    "          'batchsize': 32,\n",
    "          'epochs': 5,\n",
    "          'kernel_size': (4,4),\n",
    "          'pool_size': (2,2),\n",
    "          'dropout':0.2,\n",
    "          'steps_per_epoch': 100,\n",
    "          'validation_steps': 5\n",
    "          }\n",
    "\n",
    "# config\n",
<<<<<<< HEAD
    "img_pixels = 256\n",
    "n_filters = 32\n",
    "layer_nodes = 512\n",
    "batchsize = 616\n",
    "epochs = 50\n",
    "steps_per_epoch = 100\n",
    "validation_steps = 50\n",
    "poolsize = (2,2)\n",
    "kernelsize = (3,3)\n",
    "dropout = 0.2"
=======
    "img_pixels = config['img_pixels']\n",
    "n_filters = config['n_filters']\n",
    "layer_nodes = config['layer_nodes']\n",
    "batchsize = config['batchsize']\n",
    "epochs = config['epochs']\n",
    "kernel_size = config['kernel_size']\n",
    "pool_size = config['pool_size']\n",
    "dropout = config['dropout']\n",
    "steps_per_epoch = config['steps_per_epoch']\n",
    "validation_steps = config['validation_steps']"
>>>>>>> 38f27ca6c90cb9d26a96051ae3a83a053d16c6eb
   ]
  },
  {
   "cell_type": "code",
<<<<<<< HEAD
   "execution_count": 18,
   "metadata": {
    "scrolled": true
   },
   "outputs": [],
=======
   "execution_count": 5,
   "metadata": {},
   "outputs": [],
   "source": [
    "folders = 0\n",
    "fs = 0\n",
    "for _, dirnames, filenames in os.walk(\"../scraped_images_2020/train\"):\n",
    "  # ^ this idiom means \"we won't be using this value\"\n",
    "    folders += len(dirnames)\n",
    "    fs += len(filenames)\n",
    "    "
   ]
  },
  {
   "cell_type": "code",
   "execution_count": 7,
   "metadata": {},
   "outputs": [
    {
     "data": {
      "text/plain": [
       "616"
      ]
     },
     "execution_count": 7,
     "metadata": {},
     "output_type": "execute_result"
    }
   ],
>>>>>>> 38f27ca6c90cb9d26a96051ae3a83a053d16c6eb
   "source": [
    "folders"
   ]
  },
  {
   "cell_type": "code",
   "execution_count": 6,
   "metadata": {},
   "outputs": [
    {
     "data": {
      "text/plain": [
       "39783"
      ]
     },
     "execution_count": 6,
     "metadata": {},
     "output_type": "execute_result"
    }
   ],
   "source": [
    "fs"
   ]
  },
  {
   "cell_type": "code",
   "execution_count": 61,
   "metadata": {
    "scrolled": true
   },
   "outputs": [],
   "source": [
    "car_classifier = Sequential()\n",
    "#Adding 1st Convolution and Pooling Layer\n",
<<<<<<< HEAD
    "car_classifier.add(Conv2D(n_filters,kernel_size=kernelsize,input_shape=(img_pixels,img_pixels,3),activation='relu'))\n",
    "car_classifier.add(MaxPool2D(pool_size=poolsize))\n",
    "car_classifier.add(Dropout(dropout))\n",
    "#Adding 2nd Convolution and Pooling Layer\n",
    "car_classifier.add(Conv2D(n_filters,kernel_size=kernelsize,activation='relu'))\n",
    "car_classifier.add(MaxPool2D(pool_size=poolsize))\n",
    "car_classifier.add(Dropout(dropout))\n",
    "#Adding 3rd Convolution and Pooling Layer\n",
    "car_classifier.add(Conv2D(n_filters,kernel_size=kernelsize,activation='relu'))\n",
    "car_classifier.add(MaxPool2D(pool_size=poolsize))\n",
    "car_classifier.add(Dropout(dropout))\n",
    "#Adding 4th Convolution and Pooling Layer\n",
    "car_classifier.add(Conv2D(n_filters,kernel_size=kernelsize,activation='relu'))\n",
    "car_classifier.add(MaxPool2D(pool_size=poolsize))\n",
    "car_classifier.add(Dropout(dropout))\n",
    "#Adding 5th Convolution and Pooling Layer\n",
    "car_classifier.add(Conv2D(n_filters,kernel_size=kernelsize,activation='relu'))\n",
    "car_classifier.add(MaxPool2D(pool_size=poolsize))\n",
=======
    "car_classifier.add(Conv2D(n_filters,kernel_size=kernel_size,input_shape=(img_pixels,img_pixels,3),activation='relu'))\n",
    "car_classifier.add(MaxPool2D(pool_size=pool_size))\n",
    "car_classifier.add(Dropout(dropout))\n",
    "#Adding 2nd Convolution and Pooling Layer\n",
    "car_classifier.add(Conv2D(n_filters,kernel_size=kernel_size,activation='relu'))\n",
    "car_classifier.add(MaxPool2D(pool_size=pool_size))\n",
    "car_classifier.add(Dropout(dropout))\n",
    "#Adding 3rd Convolution and Pooling Layer\n",
    "car_classifier.add(Conv2D(n_filters,kernel_size=kernel_size,activation='relu'))\n",
    "car_classifier.add(MaxPool2D(pool_size=pool_size))\n",
    "car_classifier.add(Dropout(dropout))\n",
    "#Adding 4th Convolution and Pooling Layer\n",
    "car_classifier.add(Conv2D(n_filters,kernel_size=kernel_size,activation='relu'))\n",
    "car_classifier.add(MaxPool2D(pool_size=pool_size))\n",
    "car_classifier.add(Dropout(dropout))\n",
    "#Adding 5th Convolution and Pooling Layer\n",
    "car_classifier.add(Conv2D(n_filters,kernel_size=kernel_size,activation='relu'))\n",
    "car_classifier.add(MaxPool2D(pool_size=pool_size))\n",
>>>>>>> 38f27ca6c90cb9d26a96051ae3a83a053d16c6eb
    "car_classifier.add(Dropout(dropout))\n",
    "\n",
    "#Flatten\n",
    "car_classifier.add(Flatten())\n",
    "\n",
    "#Adding Input and Output Layer\n",
    "car_classifier.add(Dense(units=layer_nodes,activation='relu'))\n",
    "car_classifier.add(Dense(units=layer_nodes,activation='relu'))\n",
    "car_classifier.add(Dense(units=layer_nodes,activation='relu'))\n",
<<<<<<< HEAD
    "car_classifier.add(Dense(units=616,activation='softmax'))\n",
=======
    "car_classifier.add(Dense(units=folders,activation='softmax'))\n",
>>>>>>> 38f27ca6c90cb9d26a96051ae3a83a053d16c6eb
    "\n",
    "sgd = SGD(lr=0.01, clipvalue=0.5)\n",
    "car_classifier.compile(optimizer = 'sgd', loss = 'categorical_crossentropy', metrics = ['accuracy'])"
   ]
  },
  {
   "cell_type": "code",
<<<<<<< HEAD
   "execution_count": 19,
=======
   "execution_count": 62,
>>>>>>> 38f27ca6c90cb9d26a96051ae3a83a053d16c6eb
   "metadata": {},
   "outputs": [
    {
     "name": "stdout",
     "output_type": "stream",
     "text": [
      "Found 39783 images belonging to 616 classes.\n",
      "Found 12577 images belonging to 616 classes.\n"
     ]
    }
   ],
   "source": [
    "# Data agumentation\n",
    "train_datagen = ImageDataGenerator(rescale=1./255,shear_range=0.2,zoom_range=0.2,horizontal_flip=True)\n",
    "test_datagen = ImageDataGenerator(rescale=1./255)\n",
    "\n",
    "train_data = train_datagen.flow_from_directory('../scraped_images_2020/train',\n",
<<<<<<< HEAD
    "                                              target_size=(img_pixels,img_pixels),\n",
    "                                              batch_size=batchsize,\n",
    "                                              class_mode='categorical')\n",
    "test_data = test_datagen.flow_from_directory('../scraped_images_2020/test',\n",
    "                                              target_size=(img_pixels,img_pixels),\n",
    "                                              batch_size=batchsize,\n",
    "                                              class_mode='categorical')"
=======
    "                                               target_size=(img_pixels,img_pixels),\n",
    "                                               batch_size=batchsize,\n",
    "                                               class_mode='categorical',\n",
    "                                               shuffle=True,\n",
    "                                               seed=42)\n",
    "\n",
    "test_data = test_datagen.flow_from_directory('../scraped_images_2020/test',\n",
    "                                             target_size=(img_pixels,img_pixels),\n",
    "                                             batch_size=1,\n",
    "                                             class_mode='categorical',\n",
    "                                             shuffle=True,\n",
    "                                             seed=42)"
>>>>>>> 38f27ca6c90cb9d26a96051ae3a83a053d16c6eb
   ]
  },
  {
   "cell_type": "code",
<<<<<<< HEAD
   "execution_count": 20,
=======
   "execution_count": null,
>>>>>>> 38f27ca6c90cb9d26a96051ae3a83a053d16c6eb
   "metadata": {
    "scrolled": false
   },
   "outputs": [
    {
     "name": "stdout",
     "output_type": "stream",
     "text": [
<<<<<<< HEAD
      "Epoch 1/50\n",
      "100/100 [==============================] - 1625s 16s/step - loss: 6.3145 - acc: 0.0059 - val_loss: 6.2833 - val_acc: 0.0067\n",
      "Epoch 2/50\n",
      "100/100 [==============================] - 1574s 16s/step - loss: 6.2809 - acc: 0.0069 - val_loss: 6.2722 - val_acc: 0.0068\n",
      "Epoch 3/50\n",
      "100/100 [==============================] - 1583s 16s/step - loss: 6.2637 - acc: 0.0068 - val_loss: 6.2359 - val_acc: 0.0068\n",
      "Epoch 4/50\n",
      "100/100 [==============================] - 1623s 16s/step - loss: 6.1592 - acc: 0.0072 - val_loss: 6.1163 - val_acc: 0.0074\n",
      "Epoch 5/50\n",
      "100/100 [==============================] - 1616s 16s/step - loss: 5.9998 - acc: 0.0091 - val_loss: 5.9304 - val_acc: 0.0118\n",
      "Epoch 6/50\n",
      "100/100 [==============================] - 1616s 16s/step - loss: 5.8212 - acc: 0.0133 - val_loss: 5.7652 - val_acc: 0.0150\n",
      "Epoch 7/50\n",
      "100/100 [==============================] - 1581s 16s/step - loss: 5.5895 - acc: 0.0223 - val_loss: 5.6815 - val_acc: 0.0208\n",
      "Epoch 8/50\n",
      "100/100 [==============================] - 1612s 16s/step - loss: 5.2977 - acc: 0.0366 - val_loss: 5.4804 - val_acc: 0.0266\n",
      "Epoch 9/50\n",
      "100/100 [==============================] - 1644s 16s/step - loss: 5.0177 - acc: 0.0531 - val_loss: 5.1235 - val_acc: 0.0457\n",
      "Epoch 10/50\n",
      "100/100 [==============================] - 1576s 16s/step - loss: 4.6815 - acc: 0.0780 - val_loss: 4.9096 - val_acc: 0.0619\n",
      "Epoch 11/50\n",
      "100/100 [==============================] - 1643s 16s/step - loss: 4.3967 - acc: 0.1039 - val_loss: 4.9295 - val_acc: 0.0695\n",
      "Epoch 12/50\n",
      "100/100 [==============================] - 1611s 16s/step - loss: 4.0575 - acc: 0.1415 - val_loss: 4.6731 - val_acc: 0.0972\n",
      "Epoch 13/50\n",
      "100/100 [==============================] - 1578s 16s/step - loss: 3.7969 - acc: 0.1758 - val_loss: 4.5365 - val_acc: 0.1099\n",
      "Epoch 14/50\n",
      "100/100 [==============================] - 1574s 16s/step - loss: 3.4708 - acc: 0.2195 - val_loss: 4.4696 - val_acc: 0.1281\n",
      "Epoch 15/50\n",
      "100/100 [==============================] - 1608s 16s/step - loss: 3.2822 - acc: 0.2482 - val_loss: 4.4224 - val_acc: 0.1438\n",
      "Epoch 16/50\n",
      "100/100 [==============================] - 1650s 16s/step - loss: 3.0114 - acc: 0.2907 - val_loss: 4.3891 - val_acc: 0.1608\n",
      "Epoch 17/50\n",
      "100/100 [==============================] - 1590s 16s/step - loss: 2.8237 - acc: 0.3209 - val_loss: 4.4888 - val_acc: 0.1668\n",
      "Epoch 18/50\n",
      "100/100 [==============================] - 1579s 16s/step - loss: 2.6217 - acc: 0.3546 - val_loss: 4.3196 - val_acc: 0.1833\n",
      "Epoch 19/50\n",
      "100/100 [==============================] - 1600s 16s/step - loss: 2.4581 - acc: 0.3849 - val_loss: 4.3704 - val_acc: 0.1949\n",
      "Epoch 20/50\n",
      "100/100 [==============================] - 1579s 16s/step - loss: 2.3164 - acc: 0.4084 - val_loss: 4.0878 - val_acc: 0.2273\n",
      "Epoch 21/50\n",
      "100/100 [==============================] - 1630s 16s/step - loss: 2.1592 - acc: 0.4405 - val_loss: 4.2744 - val_acc: 0.2242\n",
      "Epoch 22/50\n",
      "100/100 [==============================] - 1628s 16s/step - loss: 2.0655 - acc: 0.4557 - val_loss: 4.0496 - val_acc: 0.2512\n",
      "Epoch 23/50\n",
      "100/100 [==============================] - 1633s 16s/step - loss: 1.9404 - acc: 0.4811 - val_loss: 4.0481 - val_acc: 0.2692\n",
      "Epoch 24/50\n",
      "100/100 [==============================] - 1634s 16s/step - loss: 1.8753 - acc: 0.4907 - val_loss: 4.0582 - val_acc: 0.2697\n",
      "Epoch 25/50\n",
      "100/100 [==============================] - 1621s 16s/step - loss: 1.7509 - acc: 0.5195 - val_loss: 3.8765 - val_acc: 0.3069\n",
      "Epoch 26/50\n",
      "100/100 [==============================] - 1598s 16s/step - loss: 1.7075 - acc: 0.5275 - val_loss: 4.0268 - val_acc: 0.2886\n",
      "Epoch 27/50\n",
      "100/100 [==============================] - 1602s 16s/step - loss: 1.5923 - acc: 0.5539 - val_loss: 3.9658 - val_acc: 0.3048\n",
      "Epoch 28/50\n",
      "100/100 [==============================] - 1571s 16s/step - loss: 1.5718 - acc: 0.5551 - val_loss: 4.0997 - val_acc: 0.2936\n",
      "Epoch 29/50\n",
      "100/100 [==============================] - 1641s 16s/step - loss: 1.4939 - acc: 0.5720 - val_loss: 3.9077 - val_acc: 0.3396\n",
      "Epoch 30/50\n",
      "100/100 [==============================] - 1606s 16s/step - loss: 1.4580 - acc: 0.5794 - val_loss: 4.0161 - val_acc: 0.3248\n",
      "Epoch 31/50\n",
      "100/100 [==============================] - 1623s 16s/step - loss: 1.3925 - acc: 0.5959 - val_loss: 3.9482 - val_acc: 0.3339\n",
      "Epoch 32/50\n",
      "100/100 [==============================] - 1591s 16s/step - loss: 1.3645 - acc: 0.6006 - val_loss: 3.9939 - val_acc: 0.3502\n",
      "Epoch 33/50\n",
      "100/100 [==============================] - 1642s 16s/step - loss: 1.3121 - acc: 0.6109 - val_loss: 3.9333 - val_acc: 0.3501\n",
      "Epoch 34/50\n",
      "100/100 [==============================] - 1623s 16s/step - loss: 1.2767 - acc: 0.6205 - val_loss: 3.9823 - val_acc: 0.3582\n",
      "Epoch 35/50\n",
      "100/100 [==============================] - 1637s 16s/step - loss: 1.2395 - acc: 0.6277 - val_loss: 3.9021 - val_acc: 0.3646\n",
      "Epoch 36/50\n",
      "100/100 [==============================] - 1615s 16s/step - loss: 1.1955 - acc: 0.6382 - val_loss: 3.9636 - val_acc: 0.3743\n",
      "Epoch 37/50\n",
      "100/100 [==============================] - 1610s 16s/step - loss: 1.1765 - acc: 0.6438 - val_loss: 3.8881 - val_acc: 0.3741\n",
      "Epoch 38/50\n",
      "100/100 [==============================] - 1583s 16s/step - loss: 1.1395 - acc: 0.6517 - val_loss: 3.8192 - val_acc: 0.3989\n",
      "Epoch 39/50\n",
      "100/100 [==============================] - 1594s 16s/step - loss: 1.1478 - acc: 0.6489 - val_loss: 3.8964 - val_acc: 0.3700\n",
      "Epoch 40/50\n",
      "100/100 [==============================] - 1563s 16s/step - loss: 1.0695 - acc: 0.6679 - val_loss: 4.0215 - val_acc: 0.3745\n",
      "Epoch 41/50\n",
      "100/100 [==============================] - 1591s 16s/step - loss: 1.0860 - acc: 0.6635 - val_loss: 3.9450 - val_acc: 0.3789\n",
      "Epoch 42/50\n",
      "100/100 [==============================] - 1571s 16s/step - loss: 1.0389 - acc: 0.6745 - val_loss: 4.0120 - val_acc: 0.3768\n",
      "Epoch 43/50\n",
      "100/100 [==============================] - 1583s 16s/step - loss: 1.0484 - acc: 0.6708 - val_loss: 3.9032 - val_acc: 0.4054\n",
      "Epoch 44/50\n",
      "100/100 [==============================] - 1616s 16s/step - loss: 1.0175 - acc: 0.6801 - val_loss: 3.9147 - val_acc: 0.3904\n",
      "Epoch 45/50\n",
      "100/100 [==============================] - 1627s 16s/step - loss: 0.9930 - acc: 0.6871 - val_loss: 3.8838 - val_acc: 0.4091\n",
      "Epoch 46/50\n",
      "100/100 [==============================] - 1550s 16s/step - loss: 0.9833 - acc: 0.6878 - val_loss: 3.9404 - val_acc: 0.3887\n",
      "Epoch 47/50\n",
      "100/100 [==============================] - 1589s 16s/step - loss: 0.9534 - acc: 0.6946 - val_loss: 4.0166 - val_acc: 0.3988\n",
      "Epoch 48/50\n",
      "100/100 [==============================] - 1586s 16s/step - loss: 0.9598 - acc: 0.6935 - val_loss: 3.8102 - val_acc: 0.4133\n",
      "Epoch 49/50\n",
      "100/100 [==============================] - 1542s 15s/step - loss: 0.9209 - acc: 0.7049 - val_loss: 4.0880 - val_acc: 0.3912\n",
      "Epoch 50/50\n",
      "100/100 [==============================] - 1612s 16s/step - loss: 0.9333 - acc: 0.7032 - val_loss: 3.8806 - val_acc: 0.4041\n"
=======
      "Epoch 1/5\n",
      "100/100 [==============================] - 1121s 11s/step - loss: 6.4253 - acc: 0.0025 - val_loss: 6.4232 - val_acc: 0.0000e+00\n",
      "Epoch 2/5\n",
      "100/100 [==============================] - 1247s 12s/step - loss: 6.4226 - acc: 0.0031 - val_loss: 6.4191 - val_acc: 0.0000e+00\n",
      "Epoch 3/5\n",
      "100/100 [==============================] - 1153s 12s/step - loss: 6.4206 - acc: 0.0037 - val_loss: 6.4203 - val_acc: 0.0000e+00\n",
      "Epoch 4/5\n",
      "100/100 [==============================] - 3039s 30s/step - loss: 6.4214 - acc: 0.0047 - val_loss: 6.4213 - val_acc: 0.0000e+00\n",
      "Epoch 5/5\n",
      " 61/100 [=================>............] - ETA: 5:12:51 - loss: 6.4159 - acc: 0.0087"
     ]
    },
    {
     "name": "stderr",
     "output_type": "stream",
     "text": [
      "E0310 09:19:35.043719 56064 ultratb.py:149] Internal Python error in the inspect module.\n",
      "Below is the traceback from this internal error.\n",
      "\n",
      "E0310 09:19:35.423724 56064 ultratb.py:149] Internal Python error in the inspect module.\n",
      "Below is the traceback from this internal error.\n",
      "\n",
      "E0310 09:19:35.566728 56064 ultratb.py:149] Internal Python error in the inspect module.\n",
      "Below is the traceback from this internal error.\n",
      "\n"
>>>>>>> 38f27ca6c90cb9d26a96051ae3a83a053d16c6eb
     ]
    }
   ],
   "source": [
    "history = car_classifier.fit_generator(train_data,\n",
    "                                       steps_per_epoch=steps_per_epoch,\n",
    "                                       epochs=epochs,\n",
    "                                       validation_data=test_data,\n",
    "                                       validation_steps=validation_steps\n",
    "                                      )"
   ]
  },
  {
   "cell_type": "code",
<<<<<<< HEAD
   "execution_count": 26,
   "metadata": {},
   "outputs": [
    {
     "data": {
      "text/html": [
       "<div>\n",
       "<style scoped>\n",
       "    .dataframe tbody tr th:only-of-type {\n",
       "        vertical-align: middle;\n",
       "    }\n",
       "\n",
       "    .dataframe tbody tr th {\n",
       "        vertical-align: top;\n",
       "    }\n",
       "\n",
       "    .dataframe thead th {\n",
       "        text-align: right;\n",
       "    }\n",
       "</style>\n",
       "<table border=\"1\" class=\"dataframe\">\n",
       "  <thead>\n",
       "    <tr style=\"text-align: right;\">\n",
       "      <th></th>\n",
       "      <th>val_loss</th>\n",
       "      <th>val_acc</th>\n",
       "      <th>loss</th>\n",
       "      <th>acc</th>\n",
       "      <th>epoch</th>\n",
       "    </tr>\n",
       "  </thead>\n",
       "  <tbody>\n",
       "    <tr>\n",
       "      <th>45</th>\n",
       "      <td>3.940353</td>\n",
       "      <td>0.388704</td>\n",
       "      <td>0.982977</td>\n",
       "      <td>0.687919</td>\n",
       "      <td>46</td>\n",
       "    </tr>\n",
       "    <tr>\n",
       "      <th>46</th>\n",
       "      <td>4.016580</td>\n",
       "      <td>0.398843</td>\n",
       "      <td>0.951824</td>\n",
       "      <td>0.694840</td>\n",
       "      <td>47</td>\n",
       "    </tr>\n",
       "    <tr>\n",
       "      <th>47</th>\n",
       "      <td>3.810243</td>\n",
       "      <td>0.413350</td>\n",
       "      <td>0.959681</td>\n",
       "      <td>0.693592</td>\n",
       "      <td>48</td>\n",
       "    </tr>\n",
       "    <tr>\n",
       "      <th>48</th>\n",
       "      <td>4.087987</td>\n",
       "      <td>0.391164</td>\n",
       "      <td>0.919934</td>\n",
       "      <td>0.705186</td>\n",
       "      <td>49</td>\n",
       "    </tr>\n",
       "    <tr>\n",
       "      <th>49</th>\n",
       "      <td>3.880625</td>\n",
       "      <td>0.404064</td>\n",
       "      <td>0.932657</td>\n",
       "      <td>0.703308</td>\n",
       "      <td>50</td>\n",
       "    </tr>\n",
       "  </tbody>\n",
       "</table>\n",
       "</div>"
      ],
      "text/plain": [
       "    val_loss   val_acc      loss       acc  epoch\n",
       "45  3.940353  0.388704  0.982977  0.687919     46\n",
       "46  4.016580  0.398843  0.951824  0.694840     47\n",
       "47  3.810243  0.413350  0.959681  0.693592     48\n",
       "48  4.087987  0.391164  0.919934  0.705186     49\n",
       "49  3.880625  0.404064  0.932657  0.703308     50"
      ]
     },
     "execution_count": 26,
     "metadata": {},
     "output_type": "execute_result"
    }
   ],
=======
   "execution_count": null,
   "metadata": {},
   "outputs": [],
>>>>>>> 38f27ca6c90cb9d26a96051ae3a83a053d16c6eb
   "source": [
    "metrics = pd.DataFrame.from_dict(history.history)\n",
    "metrics['epoch'] = metrics.index + 1\n",
    "metrics.tail()"
   ]
  },
  {
   "cell_type": "code",
   "execution_count": null,
   "metadata": {},
   "outputs": [],
   "source": [
    "metrics = metrics.reset_index().drop('epochs', axis=1).rename(columns={'index': 'epochs'})\n",
    "metrics['config'] = str(config)"
   ]
  },
  {
   "cell_type": "code",
   "execution_count": null,
   "metadata": {
    "scrolled": true
   },
   "outputs": [],
   "source": [
    "metrics"
   ]
  },
  {
   "cell_type": "markdown",
   "metadata": {},
   "source": [
    "#### Saving model to disk"
   ]
  },
  {
   "cell_type": "code",
<<<<<<< HEAD
   "execution_count": 27,
   "metadata": {},
   "outputs": [],
   "source": [
    "model_num = 2"
   ]
  },
  {
   "cell_type": "code",
   "execution_count": 28,
=======
   "execution_count": null,
>>>>>>> 38f27ca6c90cb9d26a96051ae3a83a053d16c6eb
   "metadata": {},
   "outputs": [],
   "source": [
    "import json\n",
    "\n",
    "# serialize model to JSON\n",
    "model_json = car_classifier.to_json()\n",
<<<<<<< HEAD
    "with open(f\"../models/cars_classifier_tuned_model{model_num}.json\", \"w\") as json_file:\n",
    "    json_file.write(model_json)\n",
    "    \n",
    "# serialize weights to HDF5\n",
    "car_classifier.save_weights(f\"../models/cars_classifier_tuned_model{model_num}.h5\")\n",
=======
    "with open(\"../models/cars_classifier_tuned_100eP_50ba_1ba(val).json\", \"w\") as json_file:\n",
    "    json_file.write(model_json)\n",
    "    \n",
    "# serialize weights to HDF5\n",
    "car_classifier.save_weights(\"../models/cars_classifier_tuned_100eP_50ba_1ba(val).h5\")\n",
>>>>>>> 38f27ca6c90cb9d26a96051ae3a83a053d16c6eb
    "print(\"Saved model to disk\")"
   ]
  },
  {
   "cell_type": "code",
<<<<<<< HEAD
   "execution_count": 49,
=======
   "execution_count": null,
>>>>>>> 38f27ca6c90cb9d26a96051ae3a83a053d16c6eb
   "metadata": {},
   "outputs": [],
   "source": [
    "# Save metrics\n",
<<<<<<< HEAD
    "metrics.to_csv(f\"../models/cars_classifier_metrics{model_num}.csv\", index=False)"
=======
    "metrics.to_csv(\"../models/cars_classifier_metrics2.csv\", index=False)"
   ]
  },
  {
   "cell_type": "markdown",
   "metadata": {},
   "source": [
    "## 2. Test model on a single image"
>>>>>>> 38f27ca6c90cb9d26a96051ae3a83a053d16c6eb
   ]
  },
  {
   "cell_type": "markdown",
   "metadata": {},
   "source": [
    "#### Loading Model from disk"
   ]
  },
  {
   "cell_type": "code",
<<<<<<< HEAD
   "execution_count": 30,
   "metadata": {},
   "outputs": [
    {
     "name": "stdout",
     "output_type": "stream",
     "text": [
      "Loaded model from disk\n"
     ]
    }
   ],
=======
   "execution_count": null,
   "metadata": {},
   "outputs": [],
>>>>>>> 38f27ca6c90cb9d26a96051ae3a83a053d16c6eb
   "source": [
    "from keras.models import model_from_json\n",
    "\n",
    "# load json and create model\n",
    "json_file = open(f\"../models/cars_classifier_tuned_model{model_num}.json\", 'r')\n",
    "loaded_model_json = json_file.read()\n",
    "json_file.close()\n",
    "loaded_model = model_from_json(loaded_model_json)\n",
    "# load weights into new model\n",
    "loaded_model.load_weights(f\"../models/cars_classifier_tuned_model{model_num}.h5\")\n",
    "print(\"Loaded model from disk\")"
   ]
  },
  {
   "cell_type": "code",
<<<<<<< HEAD
   "execution_count": 31,
=======
   "execution_count": null,
>>>>>>> 38f27ca6c90cb9d26a96051ae3a83a053d16c6eb
   "metadata": {},
   "outputs": [],
   "source": [
    "import numpy as np\n",
    "from keras.preprocessing import image"
   ]
  },
  {
   "cell_type": "markdown",
   "metadata": {},
   "source": [
    "#### Load single prediction image"
   ]
  },
  {
   "cell_type": "code",
<<<<<<< HEAD
   "execution_count": 44,
   "metadata": {},
   "outputs": [
    {
     "data": {
      "image/png": "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\n",
      "text/plain": [
       "<PIL.Image.Image image mode=RGB size=256x256 at 0x299105CC948>"
      ]
     },
     "execution_count": 44,
     "metadata": {},
     "output_type": "execute_result"
    }
   ],
=======
   "execution_count": null,
   "metadata": {},
   "outputs": [],
>>>>>>> 38f27ca6c90cb9d26a96051ae3a83a053d16c6eb
   "source": [
    "# load image\n",
    "test_image = image.load_img('bmw330i.jpg', target_size=(img_pixels, img_pixels))\n",
    "test_image"
   ]
  },
  {
   "cell_type": "code",
<<<<<<< HEAD
   "execution_count": 45,
=======
   "execution_count": null,
>>>>>>> 38f27ca6c90cb9d26a96051ae3a83a053d16c6eb
   "metadata": {},
   "outputs": [],
   "source": [
    "# Convert to array and expand_dims because we are only doing 1 image prediction\n",
    "test_image_array = image.img_to_array(test_image)\n",
    "test_image_expand = np.expand_dims(test_image_array, axis=0)"
   ]
  },
  {
   "cell_type": "markdown",
   "metadata": {},
   "source": [
    "#### Make Prediction"
   ]
  },
  {
   "cell_type": "code",
<<<<<<< HEAD
   "execution_count": 46,
=======
   "execution_count": null,
   "metadata": {
    "scrolled": true
   },
   "outputs": [],
   "source": [
    "classes = car_classifier.predict(test_image_expand, batch_size=1)\n",
    "\n",
    "results = {}\n",
    "iterator = 0\n",
    "for key in train_data.class_indices:\n",
    "    results.setdefault(key, classes[0][iterator])\n",
    "    iterator+=1"
   ]
  },
  {
   "cell_type": "code",
   "execution_count": null,
>>>>>>> 38f27ca6c90cb9d26a96051ae3a83a053d16c6eb
   "metadata": {
    "scrolled": true
   },
   "outputs": [],
   "source": [
    "pd.DataFrame.from_dict(results, orient='index').sort_values(0, ascending=False).head(10)"
   ]
  },
  {
   "cell_type": "markdown",
   "metadata": {},
   "source": [
<<<<<<< HEAD
    "### List most likely predictions"
=======
    "## 3. Visualize Accuracy of Results"
>>>>>>> 38f27ca6c90cb9d26a96051ae3a83a053d16c6eb
   ]
  },
  {
   "cell_type": "code",
<<<<<<< HEAD
   "execution_count": 47,
=======
   "execution_count": 5,
>>>>>>> 38f27ca6c90cb9d26a96051ae3a83a053d16c6eb
   "metadata": {},
   "outputs": [],
   "source": [
    "import plotly.plotly as py\n",
    "import plotly.graph_objs as go\n",
    "from plotly.tools import FigureFactory as FF\n",
    "from plotly.tools import get_embed\n",
    "from plotly import offline"
   ]
  },
  {
   "cell_type": "markdown",
   "metadata": {},
   "source": [
    "#### Read the results"
   ]
  },
  {
   "cell_type": "code",
   "execution_count": 6,
   "metadata": {},
   "outputs": [],
   "source": [
    "results = pd.read_csv(\"../models/cars_classifier_metrics.csv\")\n",
    "\n",
    "results.drop('epochs', axis=1, inplace=True)\n",
    "results.rename(columns={'Unnamed: 0': 'epochs'}, inplace=True)"
   ]
  },
  {
   "cell_type": "code",
<<<<<<< HEAD
   "execution_count": 48,
=======
   "execution_count": 7,
>>>>>>> 38f27ca6c90cb9d26a96051ae3a83a053d16c6eb
   "metadata": {
    "scrolled": true
   },
   "outputs": [
    {
     "data": {
      "text/html": [
       "<div>\n",
       "<style scoped>\n",
       "    .dataframe tbody tr th:only-of-type {\n",
       "        vertical-align: middle;\n",
       "    }\n",
       "\n",
       "    .dataframe tbody tr th {\n",
       "        vertical-align: top;\n",
       "    }\n",
       "\n",
       "    .dataframe thead th {\n",
       "        text-align: right;\n",
       "    }\n",
       "</style>\n",
       "<table border=\"1\" class=\"dataframe\">\n",
       "  <thead>\n",
       "    <tr style=\"text-align: right;\">\n",
       "      <th></th>\n",
       "      <th>epochs</th>\n",
       "      <th>val_loss</th>\n",
       "      <th>val_acc</th>\n",
       "      <th>loss</th>\n",
       "      <th>acc</th>\n",
       "    </tr>\n",
       "  </thead>\n",
       "  <tbody>\n",
       "    <tr>\n",
<<<<<<< HEAD
       "      <th>jaguar_xe_awd_2020</th>\n",
       "      <td>1.0</td>\n",
       "    </tr>\n",
       "    <tr>\n",
       "      <th>mercedes-benz_amg_gt_c_coupe_2020</th>\n",
       "      <td>0.0</td>\n",
       "    </tr>\n",
       "    <tr>\n",
       "      <th>mercedes-benz_amg_cls53_4matic_plus_2020</th>\n",
       "      <td>0.0</td>\n",
       "    </tr>\n",
       "    <tr>\n",
       "      <th>mercedes-benz_amg_e53_4matic_plus_2020</th>\n",
       "      <td>0.0</td>\n",
       "    </tr>\n",
       "    <tr>\n",
       "      <th>mercedes-benz_amg_e53_4matic_plus_convertible_2020</th>\n",
       "      <td>0.0</td>\n",
       "    </tr>\n",
       "    <tr>\n",
       "      <th>mercedes-benz_amg_e53_4matic_plus_coupe_2020</th>\n",
       "      <td>0.0</td>\n",
       "    </tr>\n",
       "    <tr>\n",
       "      <th>mercedes-benz_amg_gt_53_4matic_plus_2020</th>\n",
       "      <td>0.0</td>\n",
       "    </tr>\n",
       "    <tr>\n",
       "      <th>mercedes-benz_amg_gt_63_4matic_plus_2020</th>\n",
       "      <td>0.0</td>\n",
       "    </tr>\n",
       "    <tr>\n",
       "      <th>mercedes-benz_amg_gt_63_s_4matic_plus_2020</th>\n",
       "      <td>0.0</td>\n",
       "    </tr>\n",
       "    <tr>\n",
       "      <th>mercedes-benz_amg_gt_c_roadster_2020</th>\n",
       "      <td>0.0</td>\n",
=======
       "      <th>0</th>\n",
       "      <td>0</td>\n",
       "      <td>5.262903</td>\n",
       "      <td>0.010400</td>\n",
       "      <td>5.279155</td>\n",
       "      <td>0.005632</td>\n",
       "    </tr>\n",
       "    <tr>\n",
       "      <th>1</th>\n",
       "      <td>1</td>\n",
       "      <td>5.170683</td>\n",
       "      <td>0.013360</td>\n",
       "      <td>5.202109</td>\n",
       "      <td>0.008648</td>\n",
       "    </tr>\n",
       "    <tr>\n",
       "      <th>2</th>\n",
       "      <td>2</td>\n",
       "      <td>5.142595</td>\n",
       "      <td>0.011800</td>\n",
       "      <td>5.143253</td>\n",
       "      <td>0.010056</td>\n",
       "    </tr>\n",
       "    <tr>\n",
       "      <th>3</th>\n",
       "      <td>3</td>\n",
       "      <td>5.115322</td>\n",
       "      <td>0.017409</td>\n",
       "      <td>5.115203</td>\n",
       "      <td>0.012671</td>\n",
       "    </tr>\n",
       "    <tr>\n",
       "      <th>4</th>\n",
       "      <td>4</td>\n",
       "      <td>5.052454</td>\n",
       "      <td>0.016802</td>\n",
       "      <td>5.062903</td>\n",
       "      <td>0.016383</td>\n",
>>>>>>> 38f27ca6c90cb9d26a96051ae3a83a053d16c6eb
       "    </tr>\n",
       "  </tbody>\n",
       "</table>\n",
       "</div>"
      ],
      "text/plain": [
<<<<<<< HEAD
       "                                                      0\n",
       "jaguar_xe_awd_2020                                  1.0\n",
       "mercedes-benz_amg_gt_c_coupe_2020                   0.0\n",
       "mercedes-benz_amg_cls53_4matic_plus_2020            0.0\n",
       "mercedes-benz_amg_e53_4matic_plus_2020              0.0\n",
       "mercedes-benz_amg_e53_4matic_plus_convertible_2020  0.0\n",
       "mercedes-benz_amg_e53_4matic_plus_coupe_2020        0.0\n",
       "mercedes-benz_amg_gt_53_4matic_plus_2020            0.0\n",
       "mercedes-benz_amg_gt_63_4matic_plus_2020            0.0\n",
       "mercedes-benz_amg_gt_63_s_4matic_plus_2020          0.0\n",
       "mercedes-benz_amg_gt_c_roadster_2020                0.0"
      ]
     },
     "execution_count": 48,
=======
       "   epochs  val_loss   val_acc      loss       acc\n",
       "0       0  5.262903  0.010400  5.279155  0.005632\n",
       "1       1  5.170683  0.013360  5.202109  0.008648\n",
       "2       2  5.142595  0.011800  5.143253  0.010056\n",
       "3       3  5.115322  0.017409  5.115203  0.012671\n",
       "4       4  5.052454  0.016802  5.062903  0.016383"
      ]
     },
     "execution_count": 7,
>>>>>>> 38f27ca6c90cb9d26a96051ae3a83a053d16c6eb
     "metadata": {},
     "output_type": "execute_result"
    }
   ],
   "source": [
    "results.head()"
   ]
  },
  {
   "cell_type": "markdown",
   "metadata": {},
   "source": [
    "#### Training vs Validation accuracy"
   ]
  },
  {
   "cell_type": "code",
   "execution_count": 12,
   "metadata": {},
   "outputs": [
    {
     "data": {
      "text/html": [
       "<iframe id=\"igraph\" scrolling=\"no\" style=\"border:none;\" seamless=\"seamless\" src=\"https://plot.ly/~himi64/16.embed\" height=\"525px\" width=\"100%\"></iframe>"
      ],
      "text/plain": [
       "<chart_studio.tools.PlotlyDisplay object>"
      ]
     },
     "execution_count": 12,
     "metadata": {},
     "output_type": "execute_result"
    }
   ],
   "source": [
    "random_x = results['epochs']\n",
    "random_y0 = results['acc']\n",
    "random_y1 = results['val_acc']\n",
    "\n",
    "# Create traces\n",
    "trace0 = go.Scatter(\n",
    "    x = random_x,\n",
    "    y = random_y0,\n",
    "    mode = 'lines',\n",
    "    name = 'Training Accuracy'\n",
    ")\n",
    "trace1 = go.Scatter(\n",
    "    x = random_x,\n",
    "    y = random_y1,\n",
    "    mode = 'lines',\n",
    "    name = 'Validation Accuracy'\n",
    ")\n",
    "\n",
    "layout = go.Layout(\n",
    "    title=go.layout.Title(\n",
    "        text='Training vs Validation Accuracy',\n",
    "        xref='paper',\n",
    "        x=0\n",
    "    ),\n",
    "    xaxis=go.layout.XAxis(\n",
    "        title=go.layout.xaxis.Title(\n",
    "            text='Epochs',\n",
    "            font=dict(\n",
    "                family='Courier New, monospace',\n",
    "                size=18,\n",
    "                color='#7f7f7f'\n",
    "            )\n",
    "        )\n",
    "    ),\n",
    "    yaxis=go.layout.YAxis(\n",
    "        title=go.layout.yaxis.Title(\n",
    "            text='Accuracy',\n",
    "            font=dict(\n",
    "                family='Courier New, monospace',\n",
    "                size=18,\n",
    "                color='#7f7f7f'\n",
    "            )\n",
    "        )\n",
    "    )\n",
    ")\n",
    "\n",
    "data = [trace0, trace1]\n",
    "acc_fig = go.Figure(data=data, layout=layout)\n",
    "\n",
    "py.iplot(acc_fig, filename='line-mode')"
   ]
  },
  {
   "cell_type": "code",
   "execution_count": 18,
   "metadata": {},
   "outputs": [
    {
     "data": {
      "text/plain": [
       "'../../../hm9464.github.io/site/plots/train_val_acc_algo1.html'"
      ]
     },
     "execution_count": 18,
     "metadata": {},
     "output_type": "execute_result"
    }
   ],
   "source": [
    "offline.plot(acc_fig, filename='../plots/train_val_acc_algo1.html')\n",
    "offline.plot(acc_fig, filename='../../../hm9464.github.io/site/plots/train_val_acc_algo1.html')"
   ]
  },
  {
   "cell_type": "code",
   "execution_count": 13,
   "metadata": {},
   "outputs": [
    {
     "data": {
      "text/html": [
       "<iframe id=\"igraph\" scrolling=\"no\" style=\"border:none;\" seamless=\"seamless\" src=\"https://plot.ly/~himi64/16.embed\" height=\"525px\" width=\"100%\"></iframe>"
      ],
      "text/plain": [
       "<chart_studio.tools.PlotlyDisplay object>"
      ]
     },
     "execution_count": 13,
     "metadata": {},
     "output_type": "execute_result"
    }
   ],
   "source": [
    "random_x = results['epochs']\n",
    "random_y0 = results['loss']\n",
    "random_y1 = results['val_loss']\n",
    "\n",
    "# Create traces\n",
    "trace0 = go.Scatter(\n",
    "    x = random_x,\n",
    "    y = random_y0,\n",
    "    mode = 'lines',\n",
    "    name = 'Training Loss'\n",
    ")\n",
    "trace1 = go.Scatter(\n",
    "    x = random_x,\n",
    "    y = random_y1,\n",
    "    mode = 'lines',\n",
    "    name = 'Validation Loss'\n",
    ")\n",
    "\n",
    "layout = go.Layout(\n",
    "    title=go.layout.Title(\n",
    "        text='Training vs Validation Loss',\n",
    "        xref='paper',\n",
    "        x=0\n",
    "    ),\n",
    "    xaxis=go.layout.XAxis(\n",
    "        title=go.layout.xaxis.Title(\n",
    "            text='Epochs',\n",
    "            font=dict(\n",
    "                family='Courier New, monospace',\n",
    "                size=18,\n",
    "                color='#7f7f7f'\n",
    "            )\n",
    "        )\n",
    "    ),\n",
    "    yaxis=go.layout.YAxis(\n",
    "        title=go.layout.yaxis.Title(\n",
    "            text='Loss',\n",
    "            font=dict(\n",
    "                family='Courier New, monospace',\n",
    "                size=18,\n",
    "                color='#7f7f7f'\n",
    "            )\n",
    "        )\n",
    "    )\n",
    ")\n",
    "\n",
    "data = [trace0, trace1]\n",
    "loss_fig = go.Figure(data=data, layout=layout)\n",
    "\n",
    "py.iplot(loss_fig, filename='line-mode')"
   ]
  },
  {
   "cell_type": "code",
   "execution_count": 17,
   "metadata": {},
   "outputs": [
    {
     "data": {
      "text/plain": [
       "'../../../hm9464.github.io/site/plots/train_val_loss_algo1.html'"
      ]
     },
     "execution_count": 17,
     "metadata": {},
     "output_type": "execute_result"
    }
   ],
   "source": [
    "offline.plot(loss_fig, filename='../plots/train_val_loss_algo1.html')\n",
    "offline.plot(loss_fig, filename='../../../hm9464.github.io/site/plots/train_val_loss_algo1.html')"
   ]
  },
  {
   "cell_type": "code",
   "execution_count": null,
   "metadata": {},
   "outputs": [],
   "source": []
  },
  {
   "cell_type": "code",
   "execution_count": null,
   "metadata": {},
   "outputs": [],
   "source": []
  },
  {
   "cell_type": "code",
   "execution_count": null,
   "metadata": {},
   "outputs": [],
   "source": []
  },
  {
   "cell_type": "markdown",
   "metadata": {},
   "source": [
    "# ---------"
   ]
  },
  {
   "cell_type": "markdown",
   "metadata": {},
   "source": [
    "## Model B: Classifying Make only\n",
    "\n",
    "<b>Aim</b>: Preidct the make of a car using the input image (e.g. BMW, Honda, etc).\n",
    "\n",
    "For this model, we will need to aggregate our existing training and prediction dataset into make ONLY."
   ]
  },
  {
   "cell_type": "code",
   "execution_count": null,
   "metadata": {},
   "outputs": [],
   "source": []
  }
 ],
 "metadata": {
  "kernelspec": {
   "display_name": "Python 3",
   "language": "python",
   "name": "python3"
  },
  "language_info": {
   "codemirror_mode": {
    "name": "ipython",
    "version": 3
   },
   "file_extension": ".py",
   "mimetype": "text/x-python",
   "name": "python",
   "nbconvert_exporter": "python",
   "pygments_lexer": "ipython3",
<<<<<<< HEAD
   "version": "3.7.5"
=======
   "version": "3.6.8"
>>>>>>> 38f27ca6c90cb9d26a96051ae3a83a053d16c6eb
  }
 },
 "nbformat": 4,
 "nbformat_minor": 2
}
