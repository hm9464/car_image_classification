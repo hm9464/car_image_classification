{
 "cells": [
  {
   "cell_type": "markdown",
   "metadata": {},
   "source": [
    "# Convolutinal Neural Network for Classifying Cars\n",
    "\n",
    "### Background\n",
    "Stanford AI has developed a dataset of cars with make, model and year. The aim of this project is to classify cars as accurately as possible using a convolutional neural network. We will use the Keras package with Tensorflow backend to run model training, and we will validate and evaluate the accuracy of the model based on the parameters.\n",
    "\n",
    "### Contents\n",
    "1. Build the classifier layers\n",
    "2. Load training and test data\n",
    "3. Run training\n",
    "4. Evaluate model accuracy"
   ]
  },
  {
   "cell_type": "markdown",
   "metadata": {},
   "source": [
    "#### Load packages"
   ]
  },
  {
   "cell_type": "code",
   "execution_count": 1,
   "metadata": {},
   "outputs": [
    {
     "name": "stderr",
     "output_type": "stream",
     "text": [
      "Using TensorFlow backend.\n"
     ]
    }
   ],
   "source": [
    "import numpy as np # linear algebra\n",
    "import pandas as pd # data processing, CSV file I/O (e.g. pd.read_csv)\n",
    "\n",
    "from keras.models import Sequential\n",
    "from keras.layers import Conv2D\n",
    "from keras.layers import MaxPool2D\n",
    "from keras.layers import Dropout\n",
    "from keras.layers import Flatten\n",
    "from keras.layers import Dense\n",
    "\n",
    "from keras.preprocessing.image import ImageDataGenerator"
   ]
  },
  {
   "cell_type": "markdown",
   "metadata": {},
   "source": [
    "## Model A: Classifying Make and Model\n",
    "<b>Aim</b>: Classify a car as part of the 196 classes in our dataset in terms of both make and model year. "
   ]
  },
  {
   "cell_type": "markdown",
   "metadata": {},
   "source": [
    "## 1. Build the Classifier\n",
    "\n",
    "We will use 3 convolution layers for the sake of computing power, with all layers using the relu activation function. We use this function because of it's non-linear (compared to sigmoid, for example, which can cause neurons to 'vanish'). "
   ]
  },
  {
   "cell_type": "code",
   "execution_count": 2,
   "metadata": {},
   "outputs": [],
   "source": [
    "# config\n",
    "img_pixels = 200\n",
    "n_filters = 32\n",
    "layer_nodes = 400\n",
    "batchsize = 100\n",
    "epochs = 75\n",
    "steps_per_epoch = 100\n",
    "validation_steps = 50"
   ]
  },
  {
   "cell_type": "code",
   "execution_count": 3,
   "metadata": {
    "scrolled": true
   },
   "outputs": [
    {
     "name": "stderr",
     "output_type": "stream",
     "text": [
      "WARNING: Logging before flag parsing goes to stderr.\n",
      "W0710 18:55:38.257944 17680 deprecation_wrapper.py:119] From C:\\Users\\himi6\\AppData\\Local\\Continuum\\anaconda3\\envs\\deep_learning\\lib\\site-packages\\keras\\backend\\tensorflow_backend.py:74: The name tf.get_default_graph is deprecated. Please use tf.compat.v1.get_default_graph instead.\n",
      "\n",
      "W0710 18:55:38.302456 17680 deprecation_wrapper.py:119] From C:\\Users\\himi6\\AppData\\Local\\Continuum\\anaconda3\\envs\\deep_learning\\lib\\site-packages\\keras\\backend\\tensorflow_backend.py:517: The name tf.placeholder is deprecated. Please use tf.compat.v1.placeholder instead.\n",
      "\n",
      "W0710 18:55:38.317445 17680 deprecation_wrapper.py:119] From C:\\Users\\himi6\\AppData\\Local\\Continuum\\anaconda3\\envs\\deep_learning\\lib\\site-packages\\keras\\backend\\tensorflow_backend.py:4138: The name tf.random_uniform is deprecated. Please use tf.random.uniform instead.\n",
      "\n",
      "W0710 18:55:38.353970 17680 deprecation_wrapper.py:119] From C:\\Users\\himi6\\AppData\\Local\\Continuum\\anaconda3\\envs\\deep_learning\\lib\\site-packages\\keras\\backend\\tensorflow_backend.py:3976: The name tf.nn.max_pool is deprecated. Please use tf.nn.max_pool2d instead.\n",
      "\n",
      "W0710 18:55:38.356939 17680 deprecation_wrapper.py:119] From C:\\Users\\himi6\\AppData\\Local\\Continuum\\anaconda3\\envs\\deep_learning\\lib\\site-packages\\keras\\backend\\tensorflow_backend.py:133: The name tf.placeholder_with_default is deprecated. Please use tf.compat.v1.placeholder_with_default instead.\n",
      "\n",
      "W0710 18:55:38.372447 17680 deprecation.py:506] From C:\\Users\\himi6\\AppData\\Local\\Continuum\\anaconda3\\envs\\deep_learning\\lib\\site-packages\\keras\\backend\\tensorflow_backend.py:3445: calling dropout (from tensorflow.python.ops.nn_ops) with keep_prob is deprecated and will be removed in a future version.\n",
      "Instructions for updating:\n",
      "Please use `rate` instead of `keep_prob`. Rate should be set to `rate = 1 - keep_prob`.\n",
      "W0710 18:55:38.619843 17680 deprecation_wrapper.py:119] From C:\\Users\\himi6\\AppData\\Local\\Continuum\\anaconda3\\envs\\deep_learning\\lib\\site-packages\\keras\\optimizers.py:790: The name tf.train.Optimizer is deprecated. Please use tf.compat.v1.train.Optimizer instead.\n",
      "\n",
      "W0710 18:55:38.647849 17680 deprecation_wrapper.py:119] From C:\\Users\\himi6\\AppData\\Local\\Continuum\\anaconda3\\envs\\deep_learning\\lib\\site-packages\\keras\\backend\\tensorflow_backend.py:3295: The name tf.log is deprecated. Please use tf.math.log instead.\n",
      "\n"
     ]
    }
   ],
   "source": [
    "car_classifier = Sequential()\n",
    "#Adding 1st Convolution and Pooling Layer\n",
    "car_classifier.add(Conv2D(n_filters,kernel_size=(3,3),input_shape=(img_pixels,img_pixels,3),activation='relu'))\n",
    "car_classifier.add(MaxPool2D(pool_size=(2,2)))\n",
    "car_classifier.add(Dropout(0.2))\n",
    "#Adding 2nd Convolution and Pooling Layer\n",
    "car_classifier.add(Conv2D(n_filters,kernel_size=(3,3),activation='relu'))\n",
    "car_classifier.add(MaxPool2D(pool_size=(2,2)))\n",
    "car_classifier.add(Dropout(0.2))\n",
    "#Adding 3rd Convolution and Pooling Layer\n",
    "car_classifier.add(Conv2D(n_filters,kernel_size=(3,3),activation='relu'))\n",
    "car_classifier.add(MaxPool2D(pool_size=(2,2)))\n",
    "car_classifier.add(Dropout(0.2))\n",
    "#Adding 4th Convolution and Pooling Layer\n",
    "car_classifier.add(Conv2D(n_filters,kernel_size=(3,3),activation='relu'))\n",
    "car_classifier.add(MaxPool2D(pool_size=(2,2)))\n",
    "car_classifier.add(Dropout(0.2))\n",
    "#Adding 5th Convolution and Pooling Layer\n",
    "car_classifier.add(Conv2D(n_filters,kernel_size=(3,3),activation='relu'))\n",
    "car_classifier.add(MaxPool2D(pool_size=(2,2)))\n",
    "car_classifier.add(Dropout(0.2))\n",
    "\n",
    "#Flatten\n",
    "car_classifier.add(Flatten())\n",
    "\n",
    "#Adding Input and Output Layer\n",
    "car_classifier.add(Dense(units=layer_nodes,activation='relu'))\n",
    "car_classifier.add(Dense(units=layer_nodes,activation='relu'))\n",
    "car_classifier.add(Dense(units=layer_nodes,activation='relu'))\n",
    "car_classifier.add(Dense(units=196,activation='softmax'))\n",
    "\n",
    "car_classifier.compile(optimizer = 'adam', loss = 'categorical_crossentropy', metrics = ['accuracy'])"
   ]
  },
  {
   "cell_type": "code",
   "execution_count": 4,
   "metadata": {},
   "outputs": [
    {
     "name": "stdout",
     "output_type": "stream",
     "text": [
      "Found 8144 images belonging to 196 classes.\n",
      "Found 8040 images belonging to 196 classes.\n"
     ]
    }
   ],
   "source": [
    "#Data agumentation\n",
    "train_datagen = ImageDataGenerator(rescale=1./255,shear_range=0.2,zoom_range=0.2,horizontal_flip=True)\n",
    "test_datagen = ImageDataGenerator(rescale=1./255)\n",
    "\n",
    "train_data = train_datagen.flow_from_directory('../car_data/train',\n",
    "                                              target_size=(img_pixels,img_pixels),\n",
    "                                              batch_size=batchsize,\n",
    "                                              class_mode='categorical')\n",
    "test_data = test_datagen.flow_from_directory('../car_data/test',\n",
    "                                              target_size=(img_pixels,img_pixels),\n",
    "                                              batch_size=batchsize,\n",
    "                                              class_mode='categorical')"
   ]
  },
  {
   "cell_type": "code",
   "execution_count": 5,
   "metadata": {
    "scrolled": true
   },
   "outputs": [
    {
     "name": "stderr",
     "output_type": "stream",
     "text": [
      "W0710 18:55:40.382491 17680 deprecation.py:323] From C:\\Users\\himi6\\AppData\\Local\\Continuum\\anaconda3\\envs\\deep_learning\\lib\\site-packages\\tensorflow\\python\\ops\\math_grad.py:1250: add_dispatch_support.<locals>.wrapper (from tensorflow.python.ops.array_ops) is deprecated and will be removed in a future version.\n",
      "Instructions for updating:\n",
      "Use tf.where in 2.0, which has the same broadcast rule as np.where\n"
     ]
    },
    {
     "name": "stdout",
     "output_type": "stream",
     "text": [
      "Epoch 1/75\n",
      "100/100 [==============================] - 509s 5s/step - loss: 5.2792 - acc: 0.0056 - val_loss: 5.2629 - val_acc: 0.0104\n",
      "Epoch 2/75\n",
      "100/100 [==============================] - 480s 5s/step - loss: 5.2020 - acc: 0.0086 - val_loss: 5.1707 - val_acc: 0.0134\n",
      "Epoch 3/75\n",
      "100/100 [==============================] - 482s 5s/step - loss: 5.1427 - acc: 0.0100 - val_loss: 5.1426 - val_acc: 0.0118\n",
      "Epoch 4/75\n",
      "100/100 [==============================] - 468s 5s/step - loss: 5.1153 - acc: 0.0127 - val_loss: 5.1153 - val_acc: 0.0174\n",
      "Epoch 5/75\n",
      "100/100 [==============================] - 475s 5s/step - loss: 5.0633 - acc: 0.0166 - val_loss: 5.0525 - val_acc: 0.0168\n",
      "Epoch 6/75\n",
      "100/100 [==============================] - 482s 5s/step - loss: 5.0068 - acc: 0.0194 - val_loss: 5.0501 - val_acc: 0.0170\n",
      "Epoch 7/75\n",
      "100/100 [==============================] - 470s 5s/step - loss: 4.9668 - acc: 0.0204 - val_loss: 4.9869 - val_acc: 0.0265\n",
      "Epoch 8/75\n",
      "100/100 [==============================] - 464s 5s/step - loss: 4.9043 - acc: 0.0243 - val_loss: 4.9702 - val_acc: 0.0224\n",
      "Epoch 9/75\n",
      "100/100 [==============================] - 476s 5s/step - loss: 4.8418 - acc: 0.0300 - val_loss: 4.9363 - val_acc: 0.0300\n",
      "Epoch 10/75\n",
      "100/100 [==============================] - 477s 5s/step - loss: 4.7635 - acc: 0.0331 - val_loss: 4.9325 - val_acc: 0.0275\n",
      "Epoch 11/75\n",
      "100/100 [==============================] - 496s 5s/step - loss: 4.6964 - acc: 0.0391 - val_loss: 4.8758 - val_acc: 0.0350\n",
      "Epoch 12/75\n",
      "100/100 [==============================] - 472s 5s/step - loss: 4.6465 - acc: 0.0452 - val_loss: 4.8567 - val_acc: 0.0336\n",
      "Epoch 13/75\n",
      "100/100 [==============================] - 468s 5s/step - loss: 4.5799 - acc: 0.0506 - val_loss: 4.7891 - val_acc: 0.0417\n",
      "Epoch 14/75\n",
      "100/100 [==============================] - 479s 5s/step - loss: 4.4957 - acc: 0.0552 - val_loss: 4.8334 - val_acc: 0.0392\n",
      "Epoch 15/75\n",
      "100/100 [==============================] - 464s 5s/step - loss: 4.4025 - acc: 0.0661 - val_loss: 4.8600 - val_acc: 0.0328\n",
      "Epoch 16/75\n",
      "100/100 [==============================] - 475s 5s/step - loss: 4.3371 - acc: 0.0706 - val_loss: 4.7994 - val_acc: 0.0450\n",
      "Epoch 17/75\n",
      "100/100 [==============================] - 486s 5s/step - loss: 4.3019 - acc: 0.0765 - val_loss: 4.8491 - val_acc: 0.0374\n",
      "Epoch 18/75\n",
      "100/100 [==============================] - 512s 5s/step - loss: 4.2109 - acc: 0.0846 - val_loss: 4.7664 - val_acc: 0.0451\n",
      "Epoch 19/75\n",
      "100/100 [==============================] - 495s 5s/step - loss: 4.0947 - acc: 0.0961 - val_loss: 4.8898 - val_acc: 0.0480\n",
      "Epoch 20/75\n",
      "100/100 [==============================] - 477s 5s/step - loss: 4.0283 - acc: 0.1044 - val_loss: 4.8105 - val_acc: 0.0502\n",
      "Epoch 21/75\n",
      "100/100 [==============================] - 465s 5s/step - loss: 3.9358 - acc: 0.1113 - val_loss: 4.8246 - val_acc: 0.0550\n",
      "Epoch 22/75\n",
      "100/100 [==============================] - 471s 5s/step - loss: 3.8888 - acc: 0.1256 - val_loss: 4.8833 - val_acc: 0.0441\n",
      "Epoch 23/75\n",
      "100/100 [==============================] - 480s 5s/step - loss: 3.8172 - acc: 0.1310 - val_loss: 4.8227 - val_acc: 0.0520\n",
      "Epoch 24/75\n",
      "100/100 [==============================] - 483s 5s/step - loss: 3.7060 - acc: 0.1454 - val_loss: 4.9212 - val_acc: 0.0500\n",
      "Epoch 25/75\n",
      "100/100 [==============================] - 472s 5s/step - loss: 3.6727 - acc: 0.1479 - val_loss: 4.9236 - val_acc: 0.0496\n",
      "Epoch 26/75\n",
      "100/100 [==============================] - 477s 5s/step - loss: 3.5488 - acc: 0.1709 - val_loss: 5.1256 - val_acc: 0.0553\n",
      "Epoch 27/75\n",
      "100/100 [==============================] - 474s 5s/step - loss: 3.4940 - acc: 0.1785 - val_loss: 5.0377 - val_acc: 0.0570\n",
      "Epoch 28/75\n",
      "100/100 [==============================] - 468s 5s/step - loss: 3.4193 - acc: 0.1900 - val_loss: 5.1114 - val_acc: 0.0559\n",
      "Epoch 29/75\n",
      "100/100 [==============================] - 463s 5s/step - loss: 3.3228 - acc: 0.2076 - val_loss: 5.1101 - val_acc: 0.0576\n",
      "Epoch 30/75\n",
      "100/100 [==============================] - 466s 5s/step - loss: 3.2762 - acc: 0.2162 - val_loss: 5.1656 - val_acc: 0.0528\n",
      "Epoch 31/75\n",
      "100/100 [==============================] - 464s 5s/step - loss: 3.1972 - acc: 0.2288 - val_loss: 5.3511 - val_acc: 0.0545\n",
      "Epoch 32/75\n",
      "100/100 [==============================] - 476s 5s/step - loss: 3.1402 - acc: 0.2409 - val_loss: 5.1079 - val_acc: 0.0566\n",
      "Epoch 33/75\n",
      "100/100 [==============================] - 481s 5s/step - loss: 3.0348 - acc: 0.2559 - val_loss: 5.5905 - val_acc: 0.0688\n",
      "Epoch 34/75\n",
      "100/100 [==============================] - 465s 5s/step - loss: 2.9988 - acc: 0.2600 - val_loss: 5.4057 - val_acc: 0.0596\n",
      "Epoch 35/75\n",
      "100/100 [==============================] - 464s 5s/step - loss: 2.8845 - acc: 0.2861 - val_loss: 5.3809 - val_acc: 0.0660\n",
      "Epoch 36/75\n",
      "100/100 [==============================] - 467s 5s/step - loss: 2.8813 - acc: 0.2906 - val_loss: 5.6136 - val_acc: 0.0575\n",
      "Epoch 37/75\n",
      "100/100 [==============================] - 483s 5s/step - loss: 2.7825 - acc: 0.3084 - val_loss: 5.6519 - val_acc: 0.0548\n",
      "Epoch 38/75\n",
      "100/100 [==============================] - 464s 5s/step - loss: 2.7145 - acc: 0.3190 - val_loss: 5.9068 - val_acc: 0.0520\n",
      "Epoch 39/75\n",
      "100/100 [==============================] - 471s 5s/step - loss: 2.6805 - acc: 0.3218 - val_loss: 5.8331 - val_acc: 0.0658\n",
      "Epoch 40/75\n",
      "100/100 [==============================] - 478s 5s/step - loss: 2.6066 - acc: 0.3407 - val_loss: 5.7465 - val_acc: 0.0562\n",
      "Epoch 41/75\n",
      "100/100 [==============================] - 471s 5s/step - loss: 2.5547 - acc: 0.3515 - val_loss: 6.0670 - val_acc: 0.0522\n",
      "Epoch 42/75\n",
      "100/100 [==============================] - 470s 5s/step - loss: 2.4565 - acc: 0.3768 - val_loss: 6.0978 - val_acc: 0.0582\n",
      "Epoch 43/75\n",
      "100/100 [==============================] - 479s 5s/step - loss: 2.4363 - acc: 0.3794 - val_loss: 6.1868 - val_acc: 0.0549\n",
      "Epoch 44/75\n",
      "100/100 [==============================] - 463s 5s/step - loss: 2.3881 - acc: 0.3824 - val_loss: 5.8170 - val_acc: 0.0619\n",
      "Epoch 45/75\n",
      "100/100 [==============================] - 472s 5s/step - loss: 2.3245 - acc: 0.3986 - val_loss: 6.1174 - val_acc: 0.0630\n",
      "Epoch 46/75\n",
      "100/100 [==============================] - 469s 5s/step - loss: 2.2619 - acc: 0.4126 - val_loss: 6.2734 - val_acc: 0.0591\n",
      "Epoch 47/75\n",
      "100/100 [==============================] - 473s 5s/step - loss: 2.2150 - acc: 0.4239 - val_loss: 6.4184 - val_acc: 0.0626\n",
      "Epoch 48/75\n",
      "100/100 [==============================] - 480s 5s/step - loss: 2.1859 - acc: 0.4291 - val_loss: 6.4761 - val_acc: 0.0576\n",
      "Epoch 49/75\n",
      "100/100 [==============================] - 481s 5s/step - loss: 2.1380 - acc: 0.4441 - val_loss: 6.4304 - val_acc: 0.0611\n",
      "Epoch 50/75\n",
      "100/100 [==============================] - 473s 5s/step - loss: 2.1019 - acc: 0.4522 - val_loss: 6.4843 - val_acc: 0.0642\n",
      "Epoch 51/75\n",
      "100/100 [==============================] - 482s 5s/step - loss: 2.0589 - acc: 0.4644 - val_loss: 6.7298 - val_acc: 0.0551\n",
      "Epoch 52/75\n",
      "100/100 [==============================] - 486s 5s/step - loss: 1.9940 - acc: 0.4785 - val_loss: 6.7909 - val_acc: 0.0593\n",
      "Epoch 53/75\n",
      "100/100 [==============================] - 491s 5s/step - loss: 1.9473 - acc: 0.4886 - val_loss: 6.7271 - val_acc: 0.0586\n",
      "Epoch 54/75\n",
      "100/100 [==============================] - 468s 5s/step - loss: 1.9782 - acc: 0.4786 - val_loss: 6.6906 - val_acc: 0.0642\n",
      "Epoch 55/75\n",
      "100/100 [==============================] - 476s 5s/step - loss: 1.9251 - acc: 0.4890 - val_loss: 6.7543 - val_acc: 0.0650\n",
      "Epoch 56/75\n",
      "100/100 [==============================] - 484s 5s/step - loss: 1.8143 - acc: 0.5132 - val_loss: 6.8177 - val_acc: 0.0648\n",
      "Epoch 57/75\n",
      "100/100 [==============================] - 458s 5s/step - loss: 1.8403 - acc: 0.5115 - val_loss: 7.0065 - val_acc: 0.0591\n",
      "Epoch 58/75\n",
      "100/100 [==============================] - 466s 5s/step - loss: 1.7794 - acc: 0.5215 - val_loss: 6.9108 - val_acc: 0.0592\n",
      "Epoch 59/75\n",
      "100/100 [==============================] - 473s 5s/step - loss: 1.7477 - acc: 0.5297 - val_loss: 7.0007 - val_acc: 0.0621\n",
      "Epoch 60/75\n",
      "100/100 [==============================] - 481s 5s/step - loss: 1.6738 - acc: 0.5464 - val_loss: 7.1924 - val_acc: 0.0672\n",
      "Epoch 61/75\n",
      "100/100 [==============================] - 476s 5s/step - loss: 1.6485 - acc: 0.5524 - val_loss: 7.2383 - val_acc: 0.0642\n",
      "Epoch 62/75\n"
     ]
    },
    {
     "name": "stdout",
     "output_type": "stream",
     "text": [
      "100/100 [==============================] - 463s 5s/step - loss: 1.6256 - acc: 0.5599 - val_loss: 7.3324 - val_acc: 0.0567\n",
      "Epoch 63/75\n",
      "100/100 [==============================] - 477s 5s/step - loss: 1.6133 - acc: 0.5673 - val_loss: 7.0409 - val_acc: 0.0604\n",
      "Epoch 64/75\n",
      "100/100 [==============================] - 470s 5s/step - loss: 1.6189 - acc: 0.5633 - val_loss: 7.0422 - val_acc: 0.0617\n",
      "Epoch 65/75\n",
      "100/100 [==============================] - 474s 5s/step - loss: 1.5346 - acc: 0.5868 - val_loss: 7.4963 - val_acc: 0.0619\n",
      "Epoch 66/75\n",
      "100/100 [==============================] - 482s 5s/step - loss: 1.5265 - acc: 0.5861 - val_loss: 7.5431 - val_acc: 0.0562\n",
      "Epoch 67/75\n",
      "100/100 [==============================] - 474s 5s/step - loss: 1.5356 - acc: 0.5809 - val_loss: 7.6031 - val_acc: 0.0613\n",
      "Epoch 68/75\n",
      "100/100 [==============================] - 479s 5s/step - loss: 1.5091 - acc: 0.5848 - val_loss: 7.3930 - val_acc: 0.0554\n",
      "Epoch 69/75\n",
      "100/100 [==============================] - 488s 5s/step - loss: 1.4602 - acc: 0.5992 - val_loss: 7.5727 - val_acc: 0.0524\n",
      "Epoch 70/75\n",
      "100/100 [==============================] - 474s 5s/step - loss: 1.3999 - acc: 0.6120 - val_loss: 7.6062 - val_acc: 0.0630\n",
      "Epoch 71/75\n",
      "100/100 [==============================] - 480s 5s/step - loss: 1.4090 - acc: 0.6130 - val_loss: 7.5608 - val_acc: 0.0586\n",
      "Epoch 72/75\n",
      "100/100 [==============================] - 471s 5s/step - loss: 1.4008 - acc: 0.6197 - val_loss: 7.5301 - val_acc: 0.0628\n",
      "Epoch 73/75\n",
      "100/100 [==============================] - 470s 5s/step - loss: 1.4092 - acc: 0.6142 - val_loss: 7.4287 - val_acc: 0.0601\n",
      "Epoch 74/75\n",
      "100/100 [==============================] - 478s 5s/step - loss: 1.3365 - acc: 0.6321 - val_loss: 7.8720 - val_acc: 0.0518\n",
      "Epoch 75/75\n",
      "100/100 [==============================] - 474s 5s/step - loss: 1.3427 - acc: 0.6273 - val_loss: 7.6639 - val_acc: 0.0664\n"
     ]
    }
   ],
   "source": [
    "history = car_classifier.fit_generator(train_data,\n",
    "                                       steps_per_epoch=steps_per_epoch,\n",
    "                                       epochs=epochs,\n",
    "                                       validation_data=test_data,\n",
    "                                       validation_steps=validation_steps)"
   ]
  },
  {
   "cell_type": "code",
   "execution_count": 6,
   "metadata": {},
   "outputs": [
    {
     "data": {
      "text/html": [
       "<div>\n",
       "<style scoped>\n",
       "    .dataframe tbody tr th:only-of-type {\n",
       "        vertical-align: middle;\n",
       "    }\n",
       "\n",
       "    .dataframe tbody tr th {\n",
       "        vertical-align: top;\n",
       "    }\n",
       "\n",
       "    .dataframe thead th {\n",
       "        text-align: right;\n",
       "    }\n",
       "</style>\n",
       "<table border=\"1\" class=\"dataframe\">\n",
       "  <thead>\n",
       "    <tr style=\"text-align: right;\">\n",
       "      <th></th>\n",
       "      <th>epochs</th>\n",
       "      <th>val_loss</th>\n",
       "      <th>val_acc</th>\n",
       "      <th>loss</th>\n",
       "      <th>acc</th>\n",
       "    </tr>\n",
       "  </thead>\n",
       "  <tbody>\n",
       "    <tr>\n",
       "      <th>70</th>\n",
       "      <td>NaN</td>\n",
       "      <td>7.560815</td>\n",
       "      <td>0.058600</td>\n",
       "      <td>1.407565</td>\n",
       "      <td>0.613134</td>\n",
       "    </tr>\n",
       "    <tr>\n",
       "      <th>71</th>\n",
       "      <td>NaN</td>\n",
       "      <td>7.530127</td>\n",
       "      <td>0.062753</td>\n",
       "      <td>1.400450</td>\n",
       "      <td>0.619871</td>\n",
       "    </tr>\n",
       "    <tr>\n",
       "      <th>72</th>\n",
       "      <td>NaN</td>\n",
       "      <td>7.428733</td>\n",
       "      <td>0.060121</td>\n",
       "      <td>1.408715</td>\n",
       "      <td>0.614078</td>\n",
       "    </tr>\n",
       "    <tr>\n",
       "      <th>73</th>\n",
       "      <td>NaN</td>\n",
       "      <td>7.871987</td>\n",
       "      <td>0.051800</td>\n",
       "      <td>1.335055</td>\n",
       "      <td>0.632341</td>\n",
       "    </tr>\n",
       "    <tr>\n",
       "      <th>74</th>\n",
       "      <td>NaN</td>\n",
       "      <td>7.663889</td>\n",
       "      <td>0.066397</td>\n",
       "      <td>1.341887</td>\n",
       "      <td>0.627414</td>\n",
       "    </tr>\n",
       "  </tbody>\n",
       "</table>\n",
       "</div>"
      ],
      "text/plain": [
       "    epochs  val_loss   val_acc      loss       acc\n",
       "70     NaN  7.560815  0.058600  1.407565  0.613134\n",
       "71     NaN  7.530127  0.062753  1.400450  0.619871\n",
       "72     NaN  7.428733  0.060121  1.408715  0.614078\n",
       "73     NaN  7.871987  0.051800  1.335055  0.632341\n",
       "74     NaN  7.663889  0.066397  1.341887  0.627414"
      ]
     },
     "execution_count": 6,
     "metadata": {},
     "output_type": "execute_result"
    }
   ],
   "source": [
    "metrics = pd.DataFrame.from_dict(history.history)\n",
    "metrics = pd.concat([pd.Series(range(0,30),name='epochs'),metrics],axis=1)\n",
    "metrics.tail()"
   ]
  },
  {
   "cell_type": "markdown",
   "metadata": {},
   "source": [
    "#### Saving model to disk"
   ]
  },
  {
   "cell_type": "code",
   "execution_count": 8,
   "metadata": {},
   "outputs": [
    {
     "name": "stdout",
     "output_type": "stream",
     "text": [
      "Saved model to disk\n"
     ]
    }
   ],
   "source": [
    "import json\n",
    "\n",
    "# serialize model to JSON\n",
    "model_json = car_classifier.to_json()\n",
    "with open(\"../models/cars_classifier_tuned.json\", \"w\") as json_file:\n",
    "    json_file.write(model_json)\n",
    "    \n",
    "# serialize weights to HDF5\n",
    "car_classifier.save_weights(\"../models/cars_classifier_tuned.h5\")\n",
    "print(\"Saved model to disk\")"
   ]
  },
  {
   "cell_type": "code",
   "execution_count": 9,
   "metadata": {},
   "outputs": [],
   "source": [
    "# Save metrics\n",
    "metrics.to_csv(\"../models/cars_classifier_metrics.csv\")"
   ]
  },
  {
   "cell_type": "markdown",
   "metadata": {},
   "source": [
    "#### Loading Model from disk"
   ]
  },
  {
   "cell_type": "code",
   "execution_count": 2,
   "metadata": {},
   "outputs": [
    {
     "name": "stderr",
     "output_type": "stream",
     "text": [
      "WARNING: Logging before flag parsing goes to stderr.\n",
      "W0708 18:34:41.569905  6448 deprecation_wrapper.py:119] From C:\\Users\\himi6\\AppData\\Local\\Continuum\\anaconda3\\envs\\deep_learning\\lib\\site-packages\\keras\\backend\\tensorflow_backend.py:517: The name tf.placeholder is deprecated. Please use tf.compat.v1.placeholder instead.\n",
      "\n",
      "W0708 18:34:41.657921  6448 deprecation_wrapper.py:119] From C:\\Users\\himi6\\AppData\\Local\\Continuum\\anaconda3\\envs\\deep_learning\\lib\\site-packages\\keras\\backend\\tensorflow_backend.py:4138: The name tf.random_uniform is deprecated. Please use tf.random.uniform instead.\n",
      "\n",
      "W0708 18:34:41.703908  6448 deprecation_wrapper.py:119] From C:\\Users\\himi6\\AppData\\Local\\Continuum\\anaconda3\\envs\\deep_learning\\lib\\site-packages\\keras\\backend\\tensorflow_backend.py:3976: The name tf.nn.max_pool is deprecated. Please use tf.nn.max_pool2d instead.\n",
      "\n",
      "W0708 18:34:41.710176  6448 deprecation_wrapper.py:119] From C:\\Users\\himi6\\AppData\\Local\\Continuum\\anaconda3\\envs\\deep_learning\\lib\\site-packages\\keras\\backend\\tensorflow_backend.py:131: The name tf.get_default_graph is deprecated. Please use tf.compat.v1.get_default_graph instead.\n",
      "\n",
      "W0708 18:34:41.710920  6448 deprecation_wrapper.py:119] From C:\\Users\\himi6\\AppData\\Local\\Continuum\\anaconda3\\envs\\deep_learning\\lib\\site-packages\\keras\\backend\\tensorflow_backend.py:133: The name tf.placeholder_with_default is deprecated. Please use tf.compat.v1.placeholder_with_default instead.\n",
      "\n",
      "W0708 18:34:41.730909  6448 deprecation.py:506] From C:\\Users\\himi6\\AppData\\Local\\Continuum\\anaconda3\\envs\\deep_learning\\lib\\site-packages\\keras\\backend\\tensorflow_backend.py:3445: calling dropout (from tensorflow.python.ops.nn_ops) with keep_prob is deprecated and will be removed in a future version.\n",
      "Instructions for updating:\n",
      "Please use `rate` instead of `keep_prob`. Rate should be set to `rate = 1 - keep_prob`.\n",
      "W0708 18:34:42.270996  6448 deprecation_wrapper.py:119] From C:\\Users\\himi6\\AppData\\Local\\Continuum\\anaconda3\\envs\\deep_learning\\lib\\site-packages\\keras\\backend\\tensorflow_backend.py:174: The name tf.get_default_session is deprecated. Please use tf.compat.v1.get_default_session instead.\n",
      "\n"
     ]
    },
    {
     "name": "stdout",
     "output_type": "stream",
     "text": [
      "Loaded model from disk\n"
     ]
    }
   ],
   "source": [
    "from keras.models import model_from_json\n",
    "\n",
    "# load json and create model\n",
    "json_file = open('models/cars_classifier_untuned.json', 'r')\n",
    "loaded_model_json = json_file.read()\n",
    "json_file.close()\n",
    "loaded_model = model_from_json(loaded_model_json)\n",
    "# load weights into new model\n",
    "loaded_model.load_weights(\"models/cars_classifier_untuned.h5\")\n",
    "print(\"Loaded model from disk\")"
   ]
  },
  {
   "cell_type": "markdown",
   "metadata": {},
   "source": [
    "### Test model on a single image"
   ]
  },
  {
   "cell_type": "code",
   "execution_count": 10,
   "metadata": {},
   "outputs": [],
   "source": [
    "import numpy as np\n",
    "from keras.preprocessing import image"
   ]
  },
  {
   "cell_type": "markdown",
   "metadata": {},
   "source": [
    "#### Load image"
   ]
  },
  {
   "cell_type": "code",
   "execution_count": 11,
   "metadata": {},
   "outputs": [
    {
     "data": {
      "image/png": "[encoded data removed]",
      "text/plain": [
       "<PIL.Image.Image image mode=RGB size=200x200 at 0x18DE3A40EF0>"
      ]
     },
     "execution_count": 11,
     "metadata": {},
     "output_type": "execute_result"
    }
   ],
   "source": [
    "# load image\n",
    "test_image = image.load_img('../car_data/single_prediction/bmw_3series.jpg', target_size=(img_pixels, img_pixels))\n",
    "test_image"
   ]
  },
  {
   "cell_type": "code",
   "execution_count": 12,
   "metadata": {},
   "outputs": [],
   "source": [
    "# Convert to array and expand_dims because we are only doing 1 image prediction\n",
    "test_image_array = image.img_to_array(test_image)\n",
    "test_image_expand = np.expand_dims(test_image_array, axis=0)"
   ]
  },
  {
   "cell_type": "markdown",
   "metadata": {},
   "source": [
    "#### Make Prediction"
   ]
  },
  {
   "cell_type": "code",
   "execution_count": 13,
   "metadata": {
    "scrolled": true
   },
   "outputs": [],
   "source": [
    "classes = car_classifier.predict(test_image_expand, batch_size=1)"
   ]
  },
  {
   "cell_type": "markdown",
   "metadata": {},
   "source": [
    "#### List most likely predictions"
   ]
  },
  {
   "cell_type": "code",
   "execution_count": 14,
   "metadata": {},
   "outputs": [],
   "source": [
    "results = {}\n",
    "iterator = 0\n",
    "for key in train_data.class_indices:\n",
    "    results.setdefault(key, classes[0][iterator])\n",
    "    iterator+=1"
   ]
  },
  {
   "cell_type": "code",
   "execution_count": 15,
   "metadata": {
    "scrolled": true
   },
   "outputs": [
    {
     "data": {
      "text/html": [
       "<div>\n",
       "<style scoped>\n",
       "    .dataframe tbody tr th:only-of-type {\n",
       "        vertical-align: middle;\n",
       "    }\n",
       "\n",
       "    .dataframe tbody tr th {\n",
       "        vertical-align: top;\n",
       "    }\n",
       "\n",
       "    .dataframe thead th {\n",
       "        text-align: right;\n",
       "    }\n",
       "</style>\n",
       "<table border=\"1\" class=\"dataframe\">\n",
       "  <thead>\n",
       "    <tr style=\"text-align: right;\">\n",
       "      <th></th>\n",
       "      <th>0</th>\n",
       "    </tr>\n",
       "  </thead>\n",
       "  <tbody>\n",
       "    <tr>\n",
       "      <th>BMW X5 SUV 2007</th>\n",
       "      <td>1.000000e+00</td>\n",
       "    </tr>\n",
       "    <tr>\n",
       "      <th>BMW M6 Convertible 2010</th>\n",
       "      <td>1.018619e-16</td>\n",
       "    </tr>\n",
       "    <tr>\n",
       "      <th>Jaguar XK XKR 2012</th>\n",
       "      <td>2.065853e-24</td>\n",
       "    </tr>\n",
       "    <tr>\n",
       "      <th>McLaren MP4-12C Coupe 2012</th>\n",
       "      <td>2.183264e-26</td>\n",
       "    </tr>\n",
       "    <tr>\n",
       "      <th>Spyker C8 Coupe 2009</th>\n",
       "      <td>1.554648e-31</td>\n",
       "    </tr>\n",
       "    <tr>\n",
       "      <th>Ford GT Coupe 2006</th>\n",
       "      <td>3.186874e-34</td>\n",
       "    </tr>\n",
       "    <tr>\n",
       "      <th>Volvo 240 Sedan 1993</th>\n",
       "      <td>5.017094e-36</td>\n",
       "    </tr>\n",
       "    <tr>\n",
       "      <th>Hyundai Veloster Hatchback 2012</th>\n",
       "      <td>7.381395e-37</td>\n",
       "    </tr>\n",
       "    <tr>\n",
       "      <th>AM General Hummer SUV 2000</th>\n",
       "      <td>0.000000e+00</td>\n",
       "    </tr>\n",
       "    <tr>\n",
       "      <th>Honda Odyssey Minivan 2007</th>\n",
       "      <td>0.000000e+00</td>\n",
       "    </tr>\n",
       "  </tbody>\n",
       "</table>\n",
       "</div>"
      ],
      "text/plain": [
       "                                            0\n",
       "BMW X5 SUV 2007                  1.000000e+00\n",
       "BMW M6 Convertible 2010          1.018619e-16\n",
       "Jaguar XK XKR 2012               2.065853e-24\n",
       "McLaren MP4-12C Coupe 2012       2.183264e-26\n",
       "Spyker C8 Coupe 2009             1.554648e-31\n",
       "Ford GT Coupe 2006               3.186874e-34\n",
       "Volvo 240 Sedan 1993             5.017094e-36\n",
       "Hyundai Veloster Hatchback 2012  7.381395e-37\n",
       "AM General Hummer SUV 2000       0.000000e+00\n",
       "Honda Odyssey Minivan 2007       0.000000e+00"
      ]
     },
     "execution_count": 15,
     "metadata": {},
     "output_type": "execute_result"
    }
   ],
   "source": [
    "pd.DataFrame.from_dict(results, orient='index').sort_values(0, ascending=False).head(10)"
   ]
  },
  {
   "cell_type": "markdown",
   "metadata": {},
   "source": [
    "## Model B: Classifying Make only\n",
    "\n",
    "<b>Aim</b>: Preidct the make of a car using the input image (e.g. BMW, Honda, etc).\n",
    "\n",
    "For this model, we will need to aggregate our existing training and prediction dataset into make ONLY."
   ]
  },
  {
   "cell_type": "code",
   "execution_count": null,
   "metadata": {},
   "outputs": [],
   "source": []
  }
 ],
 "metadata": {
  "kernelspec": {
   "display_name": "Python 3",
   "language": "python",
   "name": "python3"
  }
 },
 "nbformat": 4,
 "nbformat_minor": 2
}
