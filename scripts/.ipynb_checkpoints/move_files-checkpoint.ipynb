{
 "cells": [
  {
   "cell_type": "code",
   "execution_count": 116,
   "metadata": {},
   "outputs": [],
   "source": [
    "import pandas as pd\n",
    "import os\n",
    "import shutil\n",
    "from tqdm import tqdm"
   ]
  },
  {
   "cell_type": "code",
   "execution_count": 117,
   "metadata": {},
   "outputs": [],
   "source": [
    "def make_dir(dirpath):\n",
    "    try:\n",
    "        os.makedirs(dirpath)\n",
    "    except FileExistsError:\n",
    "        # directory already exists\n",
    "        pass"
   ]
  },
  {
   "cell_type": "code",
   "execution_count": 118,
   "metadata": {},
   "outputs": [],
   "source": [
    "# split images into train and test sets in directory\n",
    "\n",
    "\n",
    "# params\n",
    "rel_path = \"../scraped_images_2020\"\n",
    "train_pct = 0.8\n",
    "\n",
    "make_dir(f\"{rel_path}/train\")\n",
    "make_dir(f\"{rel_path}/test\")"
   ]
  },
  {
   "cell_type": "code",
   "execution_count": 119,
   "metadata": {},
   "outputs": [],
   "source": [
    "n_dirs=0\n",
    "n_dirs=sum([n_dirs+1 for x in os.walk(rel_path)])"
   ]
  },
  {
   "cell_type": "code",
   "execution_count": 120,
   "metadata": {},
   "outputs": [],
   "source": [
    "# Create a List    \n",
    "dirs_to_rescrape = []\n",
    "\n",
    "# Iterate over the directory tree and check if directory is empty.\n",
    "for (dirpath, dirnames, filenames) in os.walk(rel_path):\n",
    "    if len(dirnames) == 0 and len(filenames) == 0 :\n",
    "        dirs_to_rescrape.append(dirpath)"
   ]
  },
  {
   "cell_type": "code",
   "execution_count": 121,
   "metadata": {
    "scrolled": true
   },
   "outputs": [
    {
     "data": {
      "text/plain": [
       "['../scraped_images_2020\\\\acura_mdx_awd_a-spec_2020',\n",
       " '../scraped_images_2020\\\\acura_mdx_fwd_2020',\n",
       " '../scraped_images_2020\\\\acura_mdx_hybrid_awd_2020',\n",
       " '../scraped_images_2020\\\\acura_rdx_awd_2020',\n",
       " '../scraped_images_2020\\\\acura_rdx_awd_a-spec_2020',\n",
       " '../scraped_images_2020\\\\acura_rdx_fwd_2020',\n",
       " '../scraped_images_2020\\\\acura_rdx_fwd_a-spec_2020',\n",
       " '../scraped_images_2020\\\\acura_tlx_awd_2020',\n",
       " '../scraped_images_2020\\\\acura_tlx_awd_a-spec_2020',\n",
       " '../scraped_images_2020\\\\acura_tlx_fwd_2020',\n",
       " '../scraped_images_2020\\\\acura_tlx_fwd_a-spec_2020',\n",
       " '../scraped_images_2020\\\\alfa_romeo_4c_2020',\n",
       " '../scraped_images_2020\\\\alfa_romeo_giulia_awd_2020',\n",
       " '../scraped_images_2020\\\\aston_martin_db11_v12_2020',\n",
       " '../scraped_images_2020\\\\aston_martin_db11_v8_2020',\n",
       " '../scraped_images_2020\\\\aston_martin_vantage_v8_2020',\n",
       " '../scraped_images_2020\\\\audi_r8_awd_2020',\n",
       " '../scraped_images_2020\\\\audi_r8_spyder_awd_2020',\n",
       " '../scraped_images_2020\\\\bmw_230i_convertible_2020',\n",
       " '../scraped_images_2020\\\\bmw_230i_coupe_2020',\n",
       " '../scraped_images_2020\\\\bmw_230i_xdrive_convertible_2020',\n",
       " '../scraped_images_2020\\\\bmw_230i_xdrive_coupe_2020',\n",
       " '../scraped_images_2020\\\\bmw_330i_2020',\n",
       " '../scraped_images_2020\\\\bmw_430i_convertible_2020',\n",
       " '../scraped_images_2020\\\\bmw_430i_coupe_2020',\n",
       " '../scraped_images_2020\\\\bmw_430i_gran_coupe_2020',\n",
       " '../scraped_images_2020\\\\bmw_430i_xdrive_convertible_2020',\n",
       " '../scraped_images_2020\\\\bmw_430i_xdrive_coupe_2020',\n",
       " '../scraped_images_2020\\\\bmw_430i_xdrive_gran_coupe_2020',\n",
       " '../scraped_images_2020\\\\bmw_440i_convertible_2020',\n",
       " '../scraped_images_2020\\\\bmw_440i_coupe_2020',\n",
       " '../scraped_images_2020\\\\bmw_440i_gran_coupe_2020',\n",
       " '../scraped_images_2020\\\\bmw_440i_xdrive_convertible_2020',\n",
       " '../scraped_images_2020\\\\bmw_440i_xdrive_coupe_2020',\n",
       " '../scraped_images_2020\\\\bmw_440i_xdrive_gran_coupe_2020',\n",
       " '../scraped_images_2020\\\\bmw_740i_2020',\n",
       " '../scraped_images_2020\\\\bmw_740i_xdrive_2020',\n",
       " '../scraped_images_2020\\\\bmw_745e_xdrive_2020',\n",
       " '../scraped_images_2020\\\\bmw_750i_xdrive_2020',\n",
       " '../scraped_images_2020\\\\bmw_m240i_convertible_2020',\n",
       " '../scraped_images_2020\\\\bmw_m240i_coupe_2020',\n",
       " '../scraped_images_2020\\\\bmw_m240i_coupe_m_performance_2020',\n",
       " '../scraped_images_2020\\\\bmw_m240i_xdrive_convertible_2020',\n",
       " '../scraped_images_2020\\\\bmw_m240i_xdrive_coupe_2020',\n",
       " '../scraped_images_2020\\\\bmw_m240i_xdrive_coupe_m_performance_2020',\n",
       " '../scraped_images_2020\\\\bmw_m2_competition_coupe_2020',\n",
       " '../scraped_images_2020\\\\bmw_m340i_2020',\n",
       " '../scraped_images_2020\\\\bmw_m340i_xdrive_2020',\n",
       " '../scraped_images_2020\\\\bmw_m4_coupe_competition_2020',\n",
       " '../scraped_images_2020\\\\bmw_m850i_xdrive_coupe_2020',\n",
       " '../scraped_images_2020\\\\bmw_x6_m50i_2020',\n",
       " '../scraped_images_2020\\\\bmw_z4_m40i_2020',\n",
       " '../scraped_images_2020\\\\buick_regal_awd_2020',\n",
       " '../scraped_images_2020\\\\buick_regal_tourx_awd_2020',\n",
       " '../scraped_images_2020\\\\cadillac_xt4_fwd_2020',\n",
       " '../scraped_images_2020\\\\chevrolet_silverado_cab_chassis_2wd_2020',\n",
       " '../scraped_images_2020\\\\ford_transit_connect_van_ffv_2020',\n",
       " '../scraped_images_2020\\\\gmc_yukon_k1500_xl_4wd_2020',\n",
       " '../scraped_images_2020\\\\infiniti_q50_awd_2020',\n",
       " '../scraped_images_2020\\\\kia_rio_2020',\n",
       " '../scraped_images_2020\\\\kia_soul_eco_dynamics_2020',\n",
       " '../scraped_images_2020\\\\lamborghini_huracan_spyder_2020',\n",
       " '../scraped_images_2020\\\\lexus_es_350_f_sport_2020',\n",
       " '../scraped_images_2020\\\\lexus_nx_300_2020',\n",
       " '../scraped_images_2020\\\\lexus_rx_350_l_awd_2020',\n",
       " '../scraped_images_2020\\\\lexus_rx_450h_awd_2020',\n",
       " '../scraped_images_2020\\\\maserati_levante_2020',\n",
       " '../scraped_images_2020\\\\mercedes-benz_amg_gt_53_4matic_plus_2020',\n",
       " '../scraped_images_2020\\\\mercedes-benz_amg_gt_63_4matic_plus_2020',\n",
       " '../scraped_images_2020\\\\mercedes-benz_amg_gt_63_s_4matic_plus_2020',\n",
       " '../scraped_images_2020\\\\mitsubishi_outlander_sport_4wd_2020',\n",
       " '../scraped_images_2020\\\\nissan_nv200_cargo_van_2020',\n",
       " '../scraped_images_2020\\\\rolls-royce_ghost_2020',\n",
       " '../scraped_images_2020\\\\test',\n",
       " '../scraped_images_2020\\\\toyota_4runner_4wd_2020',\n",
       " '../scraped_images_2020\\\\toyota_gr_supra_2020',\n",
       " '../scraped_images_2020\\\\train',\n",
       " '../scraped_images_2020\\\\volkswagen_jetta_2020',\n",
       " '../scraped_images_2020\\\\volvo_xc40_fwd_2020',\n",
       " '../scraped_images_2020\\\\volvo_xc60_fwd_2020']"
      ]
     },
     "execution_count": 121,
     "metadata": {},
     "output_type": "execute_result"
    }
   ],
   "source": [
    "dirs_to_rescrape"
   ]
  },
  {
   "cell_type": "code",
   "execution_count": 122,
   "metadata": {},
   "outputs": [
    {
     "data": {
      "text/plain": [
       "80"
      ]
     },
     "execution_count": 122,
     "metadata": {},
     "output_type": "execute_result"
    }
   ],
   "source": [
    "len(dirs_to_rescrape)"
   ]
  },
  {
   "cell_type": "code",
   "execution_count": 124,
   "metadata": {},
   "outputs": [
    {
     "data": {
      "text/plain": [
       "'../scraped_images_2020'"
      ]
     },
     "execution_count": 124,
     "metadata": {},
     "output_type": "execute_result"
    }
   ],
   "source": [
    "rel_path"
   ]
  },
  {
   "cell_type": "code",
   "execution_count": 125,
   "metadata": {},
   "outputs": [
    {
     "data": {
      "text/plain": [
       "'../scraped_images_2020/train/scraped_images_2020\\\\aston_martin_dbs_2020/8439b2b4f5.jpg'"
      ]
     },
     "execution_count": 125,
     "metadata": {},
     "output_type": "execute_result"
    }
   ],
   "source": [
    " f'{rel_path}/train/{car}/{i}'"
   ]
  },
  {
   "cell_type": "code",
   "execution_count": 126,
   "metadata": {},
   "outputs": [
    {
     "data": {
      "text/plain": [
       "'8439b2b4f5.jpg'"
      ]
     },
     "execution_count": 126,
     "metadata": {},
     "output_type": "execute_result"
    }
   ],
   "source": [
    "i"
   ]
  },
  {
   "cell_type": "code",
   "execution_count": 127,
   "metadata": {},
   "outputs": [
    {
     "data": {
      "text/plain": [
       "'scraped_images_2020\\\\aston_martin_dbs_2020'"
      ]
     },
     "execution_count": 127,
     "metadata": {},
     "output_type": "execute_result"
    }
   ],
   "source": [
    "car"
   ]
  },
  {
   "cell_type": "code",
   "execution_count": 130,
   "metadata": {},
   "outputs": [
    {
     "data": {
      "text/plain": [
       "'aston_martin_dbs_2020'"
      ]
     },
     "execution_count": 130,
     "metadata": {},
     "output_type": "execute_result"
    }
   ],
   "source": [
    "parent_path.split('\\\\')[-1]"
   ]
  },
  {
   "cell_type": "code",
   "execution_count": null,
   "metadata": {},
   "outputs": [
    {
     "name": "stderr",
     "output_type": "stream",
     "text": [
      "\n",
      "\n",
      "\n",
      "\n",
      "\n",
      "  0%|                                                                                          | 0/619 [00:00<?, ?it/s]\n",
      "\n",
      "\n",
      "\n",
      "\n",
      "  0%|▎                                                                                 | 2/619 [00:00<02:22,  4.33it/s]\n",
      "\n",
      "\n",
      "\n",
      "\n",
      "  0%|▍                                                                                 | 3/619 [00:02<07:29,  1.37it/s]\n",
      "\n",
      "\n",
      "\n",
      "\n",
      "  2%|█▍                                                                               | 11/619 [00:02<05:20,  1.90it/s]\n",
      "\n",
      "\n",
      "\n",
      "\n",
      "  2%|█▌                                                                               | 12/619 [00:03<05:01,  2.01it/s]\n",
      "\n",
      "\n",
      "\n",
      "\n",
      "  3%|██▎                                                                              | 18/619 [00:03<03:44,  2.68it/s]\n",
      "\n",
      "\n",
      "\n",
      "\n",
      "  3%|██▌                                                                              | 20/619 [00:04<03:25,  2.91it/s]"
     ]
    }
   ],
   "source": [
    "for x in tqdm(os.walk(rel_path), total=n_dirs): \n",
    "    parent_path = x[0]\n",
    "    car = parent_path.split('\\\\')[-1]\n",
    "    # create new t\n",
    "#     for img in x[2]:\n",
    "    img_lst = x[2]\n",
    "    random.shuffle(img_lst)\n",
    "    split_idx = int(round(train_pct*len(img_lst), 0))\n",
    "    train_data = img_lst[:split_idx]\n",
    "    test_data = img_lst[split_idx:]\n",
    "\n",
    "    if intersection(train_data, test_data)!=[]:\n",
    "        raise KeyError(\"Elements intersect between train and test sets\")\n",
    "\n",
    "    make_dir(f\"{rel_path}/train/{car}\")\n",
    "    for i in train_data:\n",
    "        shutil.move(f'{parent_path}/{i}', f'{rel_path}/train/{car}/{i}')\n",
    "    make_dir(f\"{rel_path}/test/{car}\")\n",
    "    for i in test_data:\n",
    "        shutil.move(f'{parent_path}/{i}', f'{rel_path}/test/{car}/{i}')"
   ]
  },
  {
   "cell_type": "code",
   "execution_count": 79,
   "metadata": {},
   "outputs": [
    {
     "data": {
      "text/plain": [
       "'../scraped_images_2020/bmw_440i_xdrive_gran_coupe_2020/8f87754d4c.jpg'"
      ]
     },
     "execution_count": 79,
     "metadata": {},
     "output_type": "execute_result"
    }
   ],
   "source": [
    "f'{parent_path}/{i}'"
   ]
  },
  {
   "cell_type": "code",
   "execution_count": 81,
   "metadata": {},
   "outputs": [
    {
     "data": {
      "text/plain": [
       "'../scraped_images_2020_split/_train/65f6d94c38.jpg'"
      ]
     },
     "execution_count": 81,
     "metadata": {},
     "output_type": "execute_result"
    }
   ],
   "source": [
    "f'{new_dir}/_train/{img}'"
   ]
  },
  {
   "cell_type": "code",
   "execution_count": 77,
   "metadata": {},
   "outputs": [],
   "source": [
    "for i in train_data:\n",
    "    continue"
   ]
  },
  {
   "cell_type": "code",
   "execution_count": 78,
   "metadata": {},
   "outputs": [
    {
     "data": {
      "text/plain": [
       "'8f87754d4c.jpg'"
      ]
     },
     "execution_count": 78,
     "metadata": {},
     "output_type": "execute_result"
    }
   ],
   "source": [
    "i"
   ]
  },
  {
   "cell_type": "code",
   "execution_count": 60,
   "metadata": {},
   "outputs": [],
   "source": [
    "img_lst = x[2]"
   ]
  },
  {
   "cell_type": "code",
   "execution_count": 63,
   "metadata": {},
   "outputs": [
    {
     "data": {
      "text/plain": [
       "0.8"
      ]
     },
     "execution_count": 63,
     "metadata": {},
     "output_type": "execute_result"
    }
   ],
   "source": []
  },
  {
   "cell_type": "code",
   "execution_count": 65,
   "metadata": {},
   "outputs": [],
   "source": [
    "import random"
   ]
  },
  {
   "cell_type": "code",
   "execution_count": 72,
   "metadata": {
    "scrolled": true
   },
   "outputs": [],
   "source": []
  },
  {
   "cell_type": "code",
   "execution_count": 75,
   "metadata": {},
   "outputs": [],
   "source": [
    "def intersection(lst1, lst2): \n",
    "    lst3 = [value for value in lst1 if value in lst2] \n",
    "    return lst3 "
   ]
  },
  {
   "cell_type": "code",
   "execution_count": null,
   "metadata": {},
   "outputs": [],
   "source": []
  },
  {
   "cell_type": "code",
   "execution_count": null,
   "metadata": {},
   "outputs": [],
   "source": [
    "for x in os.walk(path):\n",
    "    car = x[0].split('/')[-1]\n",
    "    \n",
    "    shutil.move('/Users/billy/d1/xfile.txt', '/Users/billy/d2/xfile.txt')\n"
   ]
  },
  {
   "cell_type": "code",
   "execution_count": null,
   "metadata": {},
   "outputs": [],
   "source": [
    "# Calc pic indexes to move per car\n",
    "def calc_idx():\n",
    "\n",
    "\n",
    "# Move files\n",
    "def move_files(path, pct):\n",
    "    \n",
    "        \n",
    "    pct_train = files*pct\n",
    "    pct_test = files*(1-pct)\n",
    "    \n",
    "    \n",
    "# get list of cars\n",
    "\n",
    "# for each car, split and move files\n",
    "\n",
    "\n",
    "# "
   ]
  }
 ],
 "metadata": {
  "kernelspec": {
   "display_name": "Python 3",
   "language": "python",
   "name": "python3"
  },
  "language_info": {
   "codemirror_mode": {
    "name": "ipython",
    "version": 3
   },
   "file_extension": ".py",
   "mimetype": "text/x-python",
   "name": "python",
   "nbconvert_exporter": "python",
   "pygments_lexer": "ipython3",
   "version": "3.6.8"
  }
 },
 "nbformat": 4,
 "nbformat_minor": 2
}
